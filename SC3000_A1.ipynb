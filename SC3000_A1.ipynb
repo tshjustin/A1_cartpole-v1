{
  "nbformat": 4,
  "nbformat_minor": 0,
  "metadata": {
    "colab": {
      "provenance": [],
      "include_colab_link": true
    },
    "kernelspec": {
      "name": "python3",
      "display_name": "Python 3"
    },
    "language_info": {
      "name": "python"
    }
  },
  "cells": [
    {
      "cell_type": "markdown",
      "metadata": {
        "id": "view-in-github",
        "colab_type": "text"
      },
      "source": [
        "<a href=\"https://colab.research.google.com/github/tshjustin/A1_cartpole-v1/blob/main/SC3000_A1.ipynb\" target=\"_parent\"><img src=\"https://colab.research.google.com/assets/colab-badge.svg\" alt=\"Open In Colab\"/></a>"
      ]
    },
    {
      "cell_type": "markdown",
      "source": [],
      "metadata": {
        "id": "Lq7E_ogIDCcV"
      }
    },
    {
      "cell_type": "markdown",
      "source": [
        "# Tutorial and Sample Code for Balancing a Pole on a Cart"
      ],
      "metadata": {
        "id": "ZauhjPSfX7pI"
      }
    },
    {
      "cell_type": "markdown",
      "source": [
        "## Installing dependencies:"
      ],
      "metadata": {
        "id": "UBiYOoesYMvr"
      }
    },
    {
      "cell_type": "code",
      "execution_count": null,
      "metadata": {
        "colab": {
          "base_uri": "https://localhost:8080/",
          "height": 547
        },
        "id": "PbgnVwZmX5uW",
        "outputId": "c3df73f6-1afc-457c-977a-507d1b18b0d2"
      },
      "outputs": [
        {
          "output_type": "stream",
          "name": "stdout",
          "text": [
            "Requirement already satisfied: gym[classic_control] in /usr/local/lib/python3.10/dist-packages (0.25.2)\n",
            "Requirement already satisfied: numpy>=1.18.0 in /usr/local/lib/python3.10/dist-packages (from gym[classic_control]) (1.25.2)\n",
            "Requirement already satisfied: cloudpickle>=1.2.0 in /usr/local/lib/python3.10/dist-packages (from gym[classic_control]) (2.2.1)\n",
            "Requirement already satisfied: gym-notices>=0.0.4 in /usr/local/lib/python3.10/dist-packages (from gym[classic_control]) (0.0.8)\n",
            "Collecting pygame==2.1.0 (from gym[classic_control])\n",
            "  Downloading pygame-2.1.0-cp310-cp310-manylinux_2_17_x86_64.manylinux2014_x86_64.whl (18.3 MB)\n",
            "\u001b[2K     \u001b[90m━━━━━━━━━━━━━━━━━━━━━━━━━━━━━━━━━━━━━━━━\u001b[0m \u001b[32m18.3/18.3 MB\u001b[0m \u001b[31m34.3 MB/s\u001b[0m eta \u001b[36m0:00:00\u001b[0m\n",
            "\u001b[?25hInstalling collected packages: pygame\n",
            "  Attempting uninstall: pygame\n",
            "    Found existing installation: pygame 2.5.2\n",
            "    Uninstalling pygame-2.5.2:\n",
            "      Successfully uninstalled pygame-2.5.2\n",
            "Successfully installed pygame-2.1.0\n",
            "Requirement already satisfied: setuptools in /usr/local/lib/python3.10/dist-packages (67.7.2)\n",
            "Collecting setuptools\n",
            "  Downloading setuptools-69.1.1-py3-none-any.whl (819 kB)\n",
            "\u001b[2K     \u001b[90m━━━━━━━━━━━━━━━━━━━━━━━━━━━━━━━━━━━━━━━━\u001b[0m \u001b[32m819.3/819.3 kB\u001b[0m \u001b[31m9.1 MB/s\u001b[0m eta \u001b[36m0:00:00\u001b[0m\n",
            "\u001b[?25hInstalling collected packages: setuptools\n",
            "  Attempting uninstall: setuptools\n",
            "    Found existing installation: setuptools 67.7.2\n",
            "    Uninstalling setuptools-67.7.2:\n",
            "      Successfully uninstalled setuptools-67.7.2\n",
            "\u001b[31mERROR: pip's dependency resolver does not currently take into account all the packages that are installed. This behaviour is the source of the following dependency conflicts.\n",
            "ipython 7.34.0 requires jedi>=0.16, which is not installed.\u001b[0m\u001b[31m\n",
            "\u001b[0mSuccessfully installed setuptools-69.1.1\n"
          ]
        },
        {
          "output_type": "display_data",
          "data": {
            "application/vnd.colab-display-data+json": {
              "pip_warning": {
                "packages": [
                  "_distutils_hack",
                  "pkg_resources",
                  "setuptools"
                ]
              },
              "id": "49e59e7ae90e4d9ba6bf345d343928a0"
            }
          },
          "metadata": {}
        }
      ],
      "source": [
        "# !apt-get install -y xvfb python-opengl > /dev/null 2>&1\n",
        "# !pip install gym pyvirtualdisplay > /dev/null 2>&1\n",
        "# !pip install gym pyvirtualdisplay > /dev/null 2>&1\n",
        "# !apt-get install -y xvfb python-opengl ffmpeg > /dev/null 2>&1\n",
        "# !pip install gym[classic_control]\n",
        "# !apt-get update > /dev/null 2>&1\n",
        "# !apt-get install cmake > /dev/null 2>&1\n",
        "# !pip install --upgrade setuptools 2>&1\n",
        "# !pip install ez_setup > /dev/null 2>&1"
      ]
    },
    {
      "cell_type": "markdown",
      "source": [
        "## Importing dependencies and define helper functions"
      ],
      "metadata": {
        "id": "RwKbYeTgbaTA"
      }
    },
    {
      "cell_type": "code",
      "source": [
        "import gym\n",
        "from gym import logger as gymlogger\n",
        "from gym.wrappers import RecordVideo\n",
        "gymlogger.set_level(40) #error only\n",
        "import tensorflow as tf\n",
        "import numpy as np\n",
        "import random\n",
        "import matplotlib\n",
        "import matplotlib.pyplot as plt\n",
        "%matplotlib inline\n",
        "import math\n",
        "import glob\n",
        "import io\n",
        "import base64\n",
        "from IPython.display import HTML\n",
        "from IPython import display as ipythondisplay\n",
        "\n",
        "def show_video():\n",
        "  mp4list = glob.glob('video/*.mp4')\n",
        "  if len(mp4list) > 0:\n",
        "    mp4 = mp4list[0]\n",
        "    video = io.open(mp4, 'r+b').read()\n",
        "    encoded = base64.b64encode(video)\n",
        "    ipythondisplay.display(HTML(data='''<video alt=\"test\" autoplay\n",
        "                loop controls style=\"height: 400px;\">\n",
        "                <source src=\"data:video/mp4;base64,{0}\" type=\"video/mp4\" />\n",
        "             </video>'''.format(encoded.decode('ascii'))))\n",
        "  else:\n",
        "    print(\"Could not find video\")"
      ],
      "metadata": {
        "id": "j6KpgCLGYWmj"
      },
      "execution_count": 1,
      "outputs": []
    },
    {
      "cell_type": "markdown",
      "source": [
        "## Tutorial: Loading CartPole environment"
      ],
      "metadata": {
        "id": "ehbqP9CXbmo7"
      }
    },
    {
      "cell_type": "code",
      "source": [
        "env = gym.make(\"CartPole-v1\")"
      ],
      "metadata": {
        "id": "Go12dH4qbwBy"
      },
      "execution_count": 2,
      "outputs": []
    },
    {
      "cell_type": "markdown",
      "source": [
        "We can check the action and observation space of this environment. Discrete(2) means that there are two valid discrete actions: 0 & 1."
      ],
      "metadata": {
        "id": "9XZ9g3xrcAXE"
      }
    },
    {
      "cell_type": "code",
      "source": [
        "print(env.action_space) # Possible actions in the env"
      ],
      "metadata": {
        "colab": {
          "base_uri": "https://localhost:8080/"
        },
        "id": "ytxvVmLdcRyw",
        "outputId": "3e0834f3-e6ec-4ce7-f174-a77aec986b99"
      },
      "execution_count": null,
      "outputs": [
        {
          "output_type": "stream",
          "name": "stdout",
          "text": [
            "Discrete(2)\n"
          ]
        }
      ]
    },
    {
      "cell_type": "markdown",
      "source": [
        "The observation space is given below. The first two arrays define the min and max values of the 4 observed values, corresponding to cart position, velocity and pole angle, angular velocity."
      ],
      "metadata": {
        "id": "pVXGWi_Ncfg-"
      }
    },
    {
      "cell_type": "code",
      "source": [
        "print(env.observation_space) # all POSSIBLE observation space [pos,velocity,angle,velocity] - We would have inf positions"
      ],
      "metadata": {
        "colab": {
          "base_uri": "https://localhost:8080/"
        },
        "id": "DyqHr9I5cdkX",
        "outputId": "7fd5696e-d7a9-461a-e9b0-15ddf3a6ed3b"
      },
      "execution_count": null,
      "outputs": [
        {
          "output_type": "stream",
          "name": "stdout",
          "text": [
            "Box([-4.8000002e+00 -3.4028235e+38 -4.1887903e-01 -3.4028235e+38], [4.8000002e+00 3.4028235e+38 4.1887903e-01 3.4028235e+38], (4,), float32)\n"
          ]
        }
      ]
    },
    {
      "cell_type": "code",
      "source": [
        "observation = env.reset()\n",
        "print(\"Initial observations:\", observation) # initial values of the state"
      ],
      "metadata": {
        "colab": {
          "base_uri": "https://localhost:8080/"
        },
        "id": "VMr6qAqxdOsm",
        "outputId": "554f8ec8-a37e-456e-81fb-d5565d270806"
      },
      "execution_count": null,
      "outputs": [
        {
          "output_type": "stream",
          "name": "stdout",
          "text": [
            "Initial observations: [-0.04695734 -0.03280946  0.04606579  0.04499507]\n"
          ]
        }
      ]
    },
    {
      "cell_type": "code",
      "source": [
        "observation, reward, done, info = env.step(0) # executes an action in the env\n",
        "print(\"New observations after choosing action 0:\", observation)\n",
        "print(\"Reward for this step:\", reward)\n",
        "print(\"Is this round done?\", done) # Done depends when one of the 3 conditions of termiantion are met"
      ],
      "metadata": {
        "colab": {
          "base_uri": "https://localhost:8080/"
        },
        "id": "MmfMDvyYdWGk",
        "outputId": "7f3dd943-c527-43e7-a654-a909cc4492b4"
      },
      "execution_count": null,
      "outputs": [
        {
          "output_type": "stream",
          "name": "stdout",
          "text": [
            "New observations after choosing action 0: [-0.04761353 -0.22856067  0.04696569  0.35184893]\n",
            "Reward for this step: 1.0\n",
            "Is this round done? False\n"
          ]
        },
        {
          "output_type": "stream",
          "name": "stderr",
          "text": [
            "/usr/local/lib/python3.10/dist-packages/gym/utils/passive_env_checker.py:241: DeprecationWarning: `np.bool8` is a deprecated alias for `np.bool_`.  (Deprecated NumPy 1.24)\n",
            "  if not isinstance(terminated, (bool, np.bool8)):\n"
          ]
        }
      ]
    },
    {
      "cell_type": "code",
      "source": [
        "env.observation_space.shape[0] # returns the number of features of the environemnt"
      ],
      "metadata": {
        "colab": {
          "base_uri": "https://localhost:8080/"
        },
        "id": "AVucQVRwf6Jm",
        "outputId": "4d9a4669-196a-4812-a00e-6bc89cf7af08"
      },
      "execution_count": null,
      "outputs": [
        {
          "output_type": "stream",
          "name": "stderr",
          "text": [
            "/usr/local/lib/python3.10/dist-packages/ipykernel/ipkernel.py:283: DeprecationWarning: `should_run_async` will not call `transform_cell` automatically in the future. Please pass the result to `transformed_cell` argument and any exception that happen during thetransform in `preprocessing_exc_tuple` in IPython 7.17 and above.\n",
            "  and should_run_async(code)\n"
          ]
        },
        {
          "output_type": "execute_result",
          "data": {
            "text/plain": [
              "4"
            ]
          },
          "metadata": {},
          "execution_count": 15
        }
      ]
    },
    {
      "cell_type": "markdown",
      "source": [
        "## Task 1: Development of an RL agent"
      ],
      "metadata": {
        "id": "2oIzK9SzhlWN"
      }
    },
    {
      "cell_type": "markdown",
      "source": [
        "### DQN:\n",
        "\n",
        "1. Network model: Input would have 4 neurons - Each representing a state feature, with a final output of 2 neurons - Corresponding to one action each\n",
        "\n",
        "\n",
        "2. Passing a batch of experience inside the model in the form of: [Batch Number, n_observations]. [[0.1, 0.2, 0.3, 0.4], [0.5, 0.6, 0.7, 0.8], ...].\n",
        "\n",
        "\n",
        "3. The output we expect is the batch dimension of input, but the values inside represent:\n",
        "[[Q-value(action1), Q-value(action2)], [Q-value(action1), Q-value(action2)]]  \n",
        "\n",
        "\n",
        "4.\n",
        "\n",
        "\n",
        "\n"
      ],
      "metadata": {
        "id": "Cc6_e5c_huiq"
      }
    },
    {
      "cell_type": "code",
      "source": [
        "import torch\n",
        "from torch import nn\n",
        "from torch.nn import functional as F\n",
        "from torch import optim\n",
        "import random\n",
        "from collections import deque\n",
        "\n",
        "class Memory(object):\n",
        "    def __init__(self, maxlen):\n",
        "        self.memory = deque(maxlen=maxlen) # sets the maximum number of experiences - Oldeset entries removed while newest are placed at the end of the queue\n",
        "\n",
        "    def store(self, experience):\n",
        "        self.memory.append(experience) # adds an experience <state, action, reward, new state, done>\n",
        "\n",
        "    def sample(self, n_samples):\n",
        "        return zip(*random.sample(self.memory, n_samples)) # takes a random sample & transpose from [(state1, action1, reward1, next_state1, done1), (state2, action2, reward2, next_state2, done2) ...] -> (state1, state2), (action1, action2), (reward1, reward2), (next_state1, next_state2), (done1, done2)\n",
        "\n",
        "    def __len__(self):\n",
        "        return len(self.memory) # current size of memory buffer\n",
        "\n",
        "\n",
        "class DQN(nn.Module):\n",
        "    def __init__(self, n_observations, n_actions, n_layers):\n",
        "        super(DQN, self).__init__()\n",
        "\n",
        "        self.feature_extractor = env.observation_space.shape[0] # retrieve the number of features - This number of features corresponds to the number of input neurons of the model\n",
        "\n",
        "        # Neural network\n",
        "        self.net = nn.Sequential(\n",
        "            nn.Linear(self.feature_extractor, n_layers),\n",
        "            nn.ReLU(),\n",
        "            nn.Linear(n_layers, n_layers),\n",
        "            nn.ReLU(),\n",
        "            nn.Linear(n_layers, n_actions.n),\n",
        "        )\n",
        "\n",
        "    def forward(self, obs):\n",
        "        '''\n",
        "        params:\n",
        "        obs: observation / state of environemnt that is to be evaluated\n",
        "\n",
        "        return:\n",
        "        set of q values for the input state.\n",
        "        '''\n",
        "        return self.net(obs)\n",
        "\n",
        "def wrap_input(arr, device, dtype=torch.float, reshape=False):\n",
        "    '''\n",
        "    Takes the array and converts it into a tensor & typecasted\n",
        "    '''\n",
        "    output = torch.from_numpy(np.array(arr)).type(dtype).to(device)\n",
        "    if reshape: # in the case for neural networks that require 2d inputs\n",
        "        output = output.reshape(-1, 1)\n",
        "\n",
        "    return output\n",
        "\n",
        "def epsilon_greedy(start, end, n_steps, current_iteration):\n",
        "    '''\n",
        "    For early exploration and exploitation later on\n",
        "\n",
        "    Decays as iteration approaches the number of steps we defined\n",
        "    '''\n",
        "    return max(start - (start - end) * (current_iteration / n_steps), end)"
      ],
      "metadata": {
        "id": "BmTOuHo3Feew"
      },
      "execution_count": 10,
      "outputs": []
    },
    {
      "cell_type": "code",
      "source": [
        "def main() -> int:\n",
        "    device = torch.device(\"cuda\" if torch.cuda.is_available() else \"cpu\")\n",
        "\n",
        "    model = DQN(env.observation_space, env.action_space, 128).to(device)\n",
        "\n",
        "    optimizer = optim.Adam(model.parameters(), lr=.0001)\n",
        "    loss_fn = nn.MSELoss()\n",
        "    memory = Memory(15_000)\n",
        "\n",
        "    episode_count = 0\n",
        "\n",
        "    obs = env.reset()\n",
        "    total_reward = 0\n",
        "\n",
        "    for iteration in range(100_000):  # each iteration means an experience, which is contained within an episode\n",
        "\n",
        "\n",
        "        # generate experiences first using epsilon greedy\n",
        "\n",
        "        if np.random.random() <= epsilon_greedy(1.0, .01, 15_000, iteration): # choose some random number in [0,1). If lower than epsilon, then take some ranom action\n",
        "            action = env.action_space.sample() # choose either 0 / 1\n",
        "\n",
        "        else: # takes the action that gives the max returns\n",
        "            state = wrap_input(obs, device).unsqueeze(0) # obtain the current state of the iteration and converts it into a tensor - unsqueeze(0) adds another dimenson at index=0 - [a,b,c,d] => [[a,b,c,d]], since for single state, the batch size = 1 and we need the extra dimention to indicate that the size = 1.\n",
        "            action  = model(state).argmax().item() # feeds state inside the model, and obtain the index of the q-value that is the max in the form of a tensor, .item() to convert it to an index which is our action.\n",
        "\n",
        "        next_state, reward, done, info = env.step(action) # observations after take the action\n",
        "        total_reward += reward\n",
        "\n",
        "        if done: # check for termination\n",
        "            next_state = np.zeros(env.observation_space.shape) # observation state all 0s if termination - prevents None Error\n",
        "\n",
        "        memory.store([obs, action, reward, int(done), next_state]) # stores the observation of the future state - Becomes experience\n",
        "\n",
        "        obs = next_state\n",
        "\n",
        "        if done:\n",
        "            print(\"total_reward = \", total_reward)\n",
        "            obs = env.reset()\n",
        "            total_reward = 0\n",
        "            episode_count += 1\n",
        "\n",
        "\n",
        "        # Train if enough experiences\n",
        "        if len(memory) > 500:\n",
        "            model.train()\n",
        "            states, actions, rewards, dones, next_states = memory.sample(128) # takes a batch of 128 experiences & seperate all the states, actions ...\n",
        "\n",
        "            # prepare inputs\n",
        "            states = wrap_input(states, device)\n",
        "            actions = wrap_input(actions, device, torch.int64, reshape=True)\n",
        "            next_states = wrap_input(next_states, device)\n",
        "            rewards = wrap_input(rewards, device, reshape=True)\n",
        "            dones = wrap_input(dones, device, reshape=True)\n",
        "\n",
        "            qs = model(states)   # qs is a tensor of q values = [[x1,y1], [x2,y2]....] - With each tensor being Q value for taking action 0/1 in each state\n",
        "\n",
        "            qs = torch.gather(qs, dim=1, index=actions) # we dont want all the Q values, rather the Q values that are associated with the values that we have already taken in our experience\n",
        "            # Eventually, we get qs = [[q1],[q2]..] => predicted Q value for the actual action that we have taken\n",
        "\n",
        "            # Compute target q-values using future state Q value\n",
        "            with torch.no_grad():\n",
        "                next_qs, _ = model(next_states).max(dim=1) # find Q of the fuuture state\n",
        "\n",
        "                next_qs = next_qs.reshape(-1, 1) # Reshape such that [0.5, 0.7, 0.6, 0.4] => [[0.5], [0.7], [0.6], [0.4]] => (-1 = adjust the number of rows as needed based on the number of inputs, 1 = 1 column)\n",
        "\n",
        "            target_qs = rewards + .9 * (1 - dones) * next_qs # Q = Q(s`,a`) r+γmax(s`,a`)\n",
        "\n",
        "            # Compute loss\n",
        "            loss = loss_fn(qs, target_qs)\n",
        "            optimizer.zero_grad()\n",
        "            loss.backward()\n",
        "\n",
        "            # Backprop\n",
        "            optimizer.step()\n",
        "\n",
        "    print(\"Episode Count\",episode_count)\n",
        "    torch.save(model.state_dict(), 'checkpoint.pth')\n",
        "\n",
        "main()"
      ],
      "metadata": {
        "colab": {
          "base_uri": "https://localhost:8080/"
        },
        "id": "Vqk4oTvbp0L3",
        "outputId": "70724bf1-b857-434c-f7f5-bf005d115dcc"
      },
      "execution_count": 28,
      "outputs": [
        {
          "output_type": "stream",
          "name": "stderr",
          "text": [
            "/usr/local/lib/python3.10/dist-packages/ipykernel/ipkernel.py:283: DeprecationWarning: `should_run_async` will not call `transform_cell` automatically in the future. Please pass the result to `transformed_cell` argument and any exception that happen during thetransform in `preprocessing_exc_tuple` in IPython 7.17 and above.\n",
            "  and should_run_async(code)\n"
          ]
        },
        {
          "output_type": "stream",
          "name": "stdout",
          "text": [
            "total_reward =  21.0\n",
            "total_reward =  27.0\n",
            "total_reward =  26.0\n",
            "total_reward =  32.0\n",
            "total_reward =  10.0\n",
            "total_reward =  23.0\n",
            "total_reward =  13.0\n",
            "total_reward =  12.0\n",
            "total_reward =  9.0\n",
            "total_reward =  50.0\n",
            "total_reward =  24.0\n",
            "total_reward =  19.0\n",
            "total_reward =  24.0\n",
            "total_reward =  11.0\n",
            "total_reward =  14.0\n",
            "total_reward =  30.0\n",
            "total_reward =  38.0\n",
            "total_reward =  20.0\n",
            "total_reward =  22.0\n",
            "total_reward =  12.0\n",
            "total_reward =  13.0\n",
            "total_reward =  11.0\n",
            "total_reward =  12.0\n",
            "total_reward =  64.0\n",
            "total_reward =  19.0\n",
            "total_reward =  10.0\n",
            "total_reward =  21.0\n",
            "total_reward =  22.0\n",
            "total_reward =  42.0\n",
            "total_reward =  13.0\n",
            "total_reward =  20.0\n",
            "total_reward =  12.0\n",
            "total_reward =  13.0\n",
            "total_reward =  25.0\n",
            "total_reward =  11.0\n",
            "total_reward =  34.0\n",
            "total_reward =  30.0\n",
            "total_reward =  13.0\n",
            "total_reward =  15.0\n",
            "total_reward =  12.0\n",
            "total_reward =  19.0\n",
            "total_reward =  13.0\n",
            "total_reward =  17.0\n",
            "total_reward =  19.0\n",
            "total_reward =  29.0\n",
            "total_reward =  23.0\n",
            "total_reward =  48.0\n",
            "total_reward =  15.0\n",
            "total_reward =  14.0\n",
            "total_reward =  10.0\n",
            "total_reward =  15.0\n",
            "total_reward =  12.0\n",
            "total_reward =  10.0\n",
            "total_reward =  41.0\n",
            "total_reward =  11.0\n",
            "total_reward =  13.0\n",
            "total_reward =  17.0\n",
            "total_reward =  13.0\n",
            "total_reward =  15.0\n",
            "total_reward =  21.0\n",
            "total_reward =  32.0\n",
            "total_reward =  16.0\n",
            "total_reward =  34.0\n",
            "total_reward =  12.0\n",
            "total_reward =  17.0\n",
            "total_reward =  15.0\n",
            "total_reward =  19.0\n",
            "total_reward =  16.0\n",
            "total_reward =  14.0\n",
            "total_reward =  20.0\n",
            "total_reward =  15.0\n",
            "total_reward =  32.0\n",
            "total_reward =  39.0\n",
            "total_reward =  19.0\n",
            "total_reward =  22.0\n",
            "total_reward =  18.0\n",
            "total_reward =  11.0\n",
            "total_reward =  18.0\n",
            "total_reward =  37.0\n",
            "total_reward =  17.0\n",
            "total_reward =  36.0\n",
            "total_reward =  19.0\n",
            "total_reward =  25.0\n",
            "total_reward =  11.0\n",
            "total_reward =  32.0\n",
            "total_reward =  29.0\n",
            "total_reward =  24.0\n",
            "total_reward =  11.0\n",
            "total_reward =  36.0\n",
            "total_reward =  14.0\n",
            "total_reward =  26.0\n",
            "total_reward =  48.0\n",
            "total_reward =  23.0\n",
            "total_reward =  52.0\n",
            "total_reward =  12.0\n",
            "total_reward =  12.0\n",
            "total_reward =  39.0\n",
            "total_reward =  17.0\n",
            "total_reward =  31.0\n",
            "total_reward =  11.0\n",
            "total_reward =  31.0\n",
            "total_reward =  52.0\n",
            "total_reward =  21.0\n",
            "total_reward =  42.0\n",
            "total_reward =  22.0\n",
            "total_reward =  30.0\n",
            "total_reward =  11.0\n",
            "total_reward =  10.0\n",
            "total_reward =  49.0\n",
            "total_reward =  30.0\n",
            "total_reward =  42.0\n",
            "total_reward =  30.0\n",
            "total_reward =  38.0\n",
            "total_reward =  20.0\n",
            "total_reward =  13.0\n",
            "total_reward =  26.0\n",
            "total_reward =  18.0\n",
            "total_reward =  29.0\n",
            "total_reward =  20.0\n",
            "total_reward =  63.0\n",
            "total_reward =  43.0\n",
            "total_reward =  14.0\n",
            "total_reward =  28.0\n",
            "total_reward =  23.0\n",
            "total_reward =  25.0\n",
            "total_reward =  18.0\n",
            "total_reward =  61.0\n",
            "total_reward =  15.0\n",
            "total_reward =  46.0\n",
            "total_reward =  14.0\n",
            "total_reward =  43.0\n",
            "total_reward =  68.0\n",
            "total_reward =  14.0\n",
            "total_reward =  42.0\n",
            "total_reward =  38.0\n",
            "total_reward =  16.0\n",
            "total_reward =  97.0\n",
            "total_reward =  80.0\n",
            "total_reward =  62.0\n",
            "total_reward =  76.0\n",
            "total_reward =  24.0\n",
            "total_reward =  35.0\n",
            "total_reward =  58.0\n",
            "total_reward =  151.0\n",
            "total_reward =  30.0\n",
            "total_reward =  10.0\n",
            "total_reward =  155.0\n",
            "total_reward =  25.0\n",
            "total_reward =  30.0\n",
            "total_reward =  41.0\n",
            "total_reward =  13.0\n",
            "total_reward =  103.0\n",
            "total_reward =  104.0\n",
            "total_reward =  11.0\n",
            "total_reward =  21.0\n",
            "total_reward =  26.0\n",
            "total_reward =  92.0\n",
            "total_reward =  37.0\n",
            "total_reward =  101.0\n",
            "total_reward =  65.0\n",
            "total_reward =  45.0\n",
            "total_reward =  62.0\n",
            "total_reward =  41.0\n",
            "total_reward =  17.0\n",
            "total_reward =  95.0\n",
            "total_reward =  56.0\n",
            "total_reward =  49.0\n",
            "total_reward =  59.0\n",
            "total_reward =  56.0\n",
            "total_reward =  86.0\n",
            "total_reward =  31.0\n",
            "total_reward =  61.0\n",
            "total_reward =  35.0\n",
            "total_reward =  19.0\n",
            "total_reward =  117.0\n",
            "total_reward =  149.0\n",
            "total_reward =  110.0\n",
            "total_reward =  52.0\n",
            "total_reward =  189.0\n",
            "total_reward =  34.0\n",
            "total_reward =  57.0\n",
            "total_reward =  61.0\n",
            "total_reward =  94.0\n",
            "total_reward =  29.0\n",
            "total_reward =  117.0\n",
            "total_reward =  121.0\n",
            "total_reward =  177.0\n",
            "total_reward =  19.0\n",
            "total_reward =  131.0\n",
            "total_reward =  88.0\n",
            "total_reward =  182.0\n",
            "total_reward =  191.0\n",
            "total_reward =  156.0\n",
            "total_reward =  155.0\n",
            "total_reward =  157.0\n",
            "total_reward =  26.0\n",
            "total_reward =  137.0\n",
            "total_reward =  181.0\n",
            "total_reward =  26.0\n",
            "total_reward =  20.0\n",
            "total_reward =  207.0\n",
            "total_reward =  227.0\n",
            "total_reward =  182.0\n",
            "total_reward =  98.0\n",
            "total_reward =  303.0\n",
            "total_reward =  206.0\n",
            "total_reward =  190.0\n",
            "total_reward =  35.0\n",
            "total_reward =  229.0\n",
            "total_reward =  118.0\n",
            "total_reward =  134.0\n",
            "total_reward =  216.0\n",
            "total_reward =  276.0\n",
            "total_reward =  45.0\n",
            "total_reward =  196.0\n",
            "total_reward =  283.0\n",
            "total_reward =  262.0\n",
            "total_reward =  193.0\n",
            "total_reward =  238.0\n",
            "total_reward =  195.0\n",
            "total_reward =  59.0\n",
            "total_reward =  231.0\n",
            "total_reward =  235.0\n",
            "total_reward =  203.0\n",
            "total_reward =  272.0\n",
            "total_reward =  262.0\n",
            "total_reward =  261.0\n",
            "total_reward =  273.0\n",
            "total_reward =  204.0\n",
            "total_reward =  225.0\n",
            "total_reward =  275.0\n",
            "total_reward =  215.0\n",
            "total_reward =  272.0\n",
            "total_reward =  208.0\n",
            "total_reward =  221.0\n",
            "total_reward =  228.0\n",
            "total_reward =  270.0\n",
            "total_reward =  241.0\n",
            "total_reward =  282.0\n",
            "total_reward =  201.0\n",
            "total_reward =  264.0\n",
            "total_reward =  265.0\n",
            "total_reward =  187.0\n",
            "total_reward =  235.0\n",
            "total_reward =  253.0\n",
            "total_reward =  245.0\n",
            "total_reward =  257.0\n",
            "total_reward =  263.0\n",
            "total_reward =  217.0\n",
            "total_reward =  216.0\n",
            "total_reward =  274.0\n",
            "total_reward =  387.0\n",
            "total_reward =  296.0\n",
            "total_reward =  207.0\n",
            "total_reward =  238.0\n",
            "total_reward =  419.0\n",
            "total_reward =  312.0\n",
            "total_reward =  341.0\n",
            "total_reward =  296.0\n",
            "total_reward =  205.0\n",
            "total_reward =  206.0\n",
            "total_reward =  276.0\n",
            "total_reward =  365.0\n",
            "total_reward =  277.0\n",
            "total_reward =  247.0\n",
            "total_reward =  270.0\n",
            "total_reward =  283.0\n",
            "total_reward =  295.0\n",
            "total_reward =  296.0\n",
            "total_reward =  269.0\n",
            "total_reward =  303.0\n",
            "total_reward =  291.0\n",
            "total_reward =  433.0\n",
            "total_reward =  196.0\n",
            "total_reward =  232.0\n",
            "total_reward =  281.0\n",
            "total_reward =  231.0\n",
            "total_reward =  229.0\n",
            "total_reward =  268.0\n",
            "total_reward =  312.0\n",
            "total_reward =  304.0\n",
            "total_reward =  274.0\n",
            "total_reward =  256.0\n",
            "total_reward =  212.0\n",
            "total_reward =  264.0\n",
            "total_reward =  306.0\n",
            "total_reward =  283.0\n",
            "total_reward =  335.0\n",
            "total_reward =  446.0\n",
            "total_reward =  244.0\n",
            "total_reward =  255.0\n",
            "total_reward =  224.0\n",
            "total_reward =  304.0\n",
            "total_reward =  294.0\n",
            "total_reward =  228.0\n",
            "total_reward =  235.0\n",
            "total_reward =  248.0\n",
            "total_reward =  324.0\n",
            "total_reward =  317.0\n",
            "total_reward =  335.0\n",
            "total_reward =  209.0\n",
            "total_reward =  325.0\n",
            "total_reward =  275.0\n",
            "total_reward =  238.0\n",
            "total_reward =  257.0\n",
            "total_reward =  268.0\n",
            "total_reward =  239.0\n",
            "total_reward =  305.0\n",
            "total_reward =  415.0\n",
            "total_reward =  350.0\n",
            "total_reward =  286.0\n",
            "total_reward =  215.0\n",
            "total_reward =  336.0\n",
            "total_reward =  256.0\n",
            "total_reward =  233.0\n",
            "total_reward =  288.0\n",
            "total_reward =  271.0\n",
            "total_reward =  252.0\n",
            "total_reward =  276.0\n",
            "total_reward =  263.0\n",
            "total_reward =  325.0\n",
            "total_reward =  330.0\n",
            "total_reward =  298.0\n",
            "total_reward =  353.0\n",
            "total_reward =  255.0\n",
            "total_reward =  351.0\n",
            "total_reward =  286.0\n",
            "total_reward =  305.0\n",
            "total_reward =  225.0\n",
            "total_reward =  300.0\n",
            "total_reward =  212.0\n",
            "total_reward =  294.0\n",
            "total_reward =  251.0\n",
            "total_reward =  367.0\n",
            "total_reward =  218.0\n",
            "total_reward =  323.0\n",
            "total_reward =  287.0\n",
            "total_reward =  203.0\n",
            "total_reward =  262.0\n",
            "total_reward =  240.0\n",
            "total_reward =  297.0\n",
            "total_reward =  260.0\n",
            "total_reward =  229.0\n",
            "total_reward =  260.0\n",
            "total_reward =  302.0\n",
            "total_reward =  234.0\n",
            "total_reward =  324.0\n",
            "total_reward =  373.0\n",
            "total_reward =  275.0\n",
            "total_reward =  245.0\n",
            "total_reward =  250.0\n",
            "total_reward =  344.0\n",
            "total_reward =  229.0\n",
            "total_reward =  291.0\n",
            "total_reward =  322.0\n",
            "total_reward =  226.0\n",
            "total_reward =  220.0\n",
            "total_reward =  264.0\n",
            "total_reward =  206.0\n",
            "total_reward =  219.0\n",
            "total_reward =  360.0\n",
            "total_reward =  254.0\n",
            "total_reward =  279.0\n",
            "total_reward =  226.0\n",
            "total_reward =  231.0\n",
            "total_reward =  288.0\n",
            "total_reward =  252.0\n",
            "total_reward =  241.0\n",
            "total_reward =  225.0\n",
            "total_reward =  419.0\n",
            "total_reward =  343.0\n",
            "total_reward =  234.0\n",
            "total_reward =  221.0\n",
            "total_reward =  345.0\n",
            "total_reward =  207.0\n",
            "total_reward =  283.0\n",
            "total_reward =  262.0\n",
            "total_reward =  323.0\n",
            "total_reward =  208.0\n",
            "total_reward =  205.0\n",
            "total_reward =  273.0\n",
            "total_reward =  241.0\n",
            "total_reward =  228.0\n",
            "total_reward =  240.0\n",
            "total_reward =  288.0\n",
            "total_reward =  256.0\n",
            "total_reward =  219.0\n",
            "total_reward =  213.0\n",
            "total_reward =  306.0\n",
            "total_reward =  190.0\n",
            "total_reward =  236.0\n",
            "total_reward =  253.0\n",
            "total_reward =  248.0\n",
            "total_reward =  253.0\n",
            "total_reward =  326.0\n",
            "total_reward =  344.0\n",
            "total_reward =  283.0\n",
            "total_reward =  307.0\n",
            "total_reward =  286.0\n",
            "total_reward =  252.0\n",
            "total_reward =  365.0\n",
            "total_reward =  412.0\n",
            "total_reward =  285.0\n",
            "total_reward =  224.0\n",
            "total_reward =  214.0\n",
            "total_reward =  255.0\n",
            "total_reward =  267.0\n",
            "total_reward =  437.0\n",
            "total_reward =  267.0\n",
            "total_reward =  268.0\n",
            "total_reward =  232.0\n",
            "total_reward =  401.0\n",
            "total_reward =  230.0\n",
            "total_reward =  236.0\n",
            "total_reward =  245.0\n",
            "total_reward =  212.0\n",
            "total_reward =  275.0\n",
            "total_reward =  248.0\n",
            "total_reward =  274.0\n",
            "total_reward =  282.0\n",
            "total_reward =  255.0\n",
            "total_reward =  296.0\n",
            "total_reward =  232.0\n",
            "total_reward =  243.0\n",
            "total_reward =  218.0\n",
            "total_reward =  236.0\n",
            "total_reward =  264.0\n",
            "total_reward =  242.0\n",
            "total_reward =  207.0\n",
            "total_reward =  324.0\n",
            "total_reward =  248.0\n",
            "total_reward =  236.0\n",
            "total_reward =  216.0\n",
            "total_reward =  221.0\n",
            "total_reward =  341.0\n",
            "total_reward =  318.0\n",
            "total_reward =  326.0\n",
            "total_reward =  263.0\n",
            "total_reward =  231.0\n",
            "total_reward =  218.0\n",
            "total_reward =  230.0\n",
            "total_reward =  240.0\n",
            "total_reward =  260.0\n",
            "total_reward =  330.0\n",
            "total_reward =  241.0\n",
            "total_reward =  244.0\n",
            "total_reward =  217.0\n",
            "total_reward =  263.0\n",
            "total_reward =  238.0\n",
            "total_reward =  500.0\n",
            "total_reward =  257.0\n",
            "total_reward =  291.0\n",
            "total_reward =  250.0\n",
            "total_reward =  286.0\n",
            "total_reward =  262.0\n",
            "total_reward =  314.0\n",
            "total_reward =  225.0\n",
            "total_reward =  389.0\n",
            "total_reward =  251.0\n",
            "total_reward =  285.0\n",
            "total_reward =  241.0\n",
            "total_reward =  283.0\n",
            "total_reward =  234.0\n",
            "total_reward =  227.0\n",
            "total_reward =  225.0\n",
            "total_reward =  271.0\n",
            "total_reward =  302.0\n",
            "total_reward =  286.0\n",
            "total_reward =  280.0\n",
            "total_reward =  242.0\n",
            "total_reward =  222.0\n",
            "total_reward =  312.0\n",
            "total_reward =  250.0\n",
            "total_reward =  258.0\n",
            "total_reward =  219.0\n",
            "total_reward =  360.0\n",
            "total_reward =  328.0\n",
            "total_reward =  317.0\n",
            "total_reward =  240.0\n",
            "total_reward =  236.0\n",
            "total_reward =  355.0\n",
            "total_reward =  208.0\n",
            "total_reward =  272.0\n",
            "total_reward =  212.0\n",
            "total_reward =  212.0\n",
            "total_reward =  231.0\n",
            "total_reward =  200.0\n",
            "total_reward =  291.0\n",
            "total_reward =  240.0\n",
            "total_reward =  246.0\n",
            "total_reward =  236.0\n",
            "total_reward =  241.0\n",
            "total_reward =  500.0\n",
            "total_reward =  319.0\n",
            "total_reward =  256.0\n",
            "total_reward =  221.0\n",
            "total_reward =  229.0\n",
            "total_reward =  254.0\n",
            "total_reward =  217.0\n",
            "total_reward =  229.0\n",
            "total_reward =  201.0\n",
            "total_reward =  255.0\n",
            "total_reward =  199.0\n",
            "total_reward =  240.0\n",
            "total_reward =  251.0\n",
            "total_reward =  234.0\n",
            "total_reward =  276.0\n",
            "total_reward =  317.0\n",
            "total_reward =  341.0\n",
            "total_reward =  201.0\n",
            "total_reward =  267.0\n",
            "total_reward =  269.0\n",
            "total_reward =  223.0\n",
            "total_reward =  228.0\n",
            "total_reward =  318.0\n",
            "total_reward =  288.0\n",
            "total_reward =  234.0\n",
            "total_reward =  367.0\n",
            "total_reward =  218.0\n",
            "total_reward =  245.0\n",
            "total_reward =  252.0\n",
            "total_reward =  252.0\n",
            "total_reward =  235.0\n",
            "total_reward =  277.0\n",
            "total_reward =  500.0\n",
            "total_reward =  288.0\n",
            "total_reward =  280.0\n",
            "total_reward =  190.0\n",
            "total_reward =  222.0\n",
            "total_reward =  269.0\n",
            "total_reward =  285.0\n",
            "total_reward =  227.0\n",
            "total_reward =  214.0\n",
            "total_reward =  308.0\n",
            "total_reward =  230.0\n",
            "total_reward =  260.0\n",
            "total_reward =  236.0\n",
            "total_reward =  258.0\n",
            "total_reward =  237.0\n",
            "total_reward =  206.0\n",
            "total_reward =  248.0\n",
            "total_reward =  317.0\n",
            "total_reward =  309.0\n",
            "total_reward =  224.0\n",
            "total_reward =  223.0\n",
            "total_reward =  222.0\n",
            "total_reward =  258.0\n",
            "total_reward =  224.0\n",
            "Episode Count 548\n"
          ]
        }
      ]
    },
    {
      "cell_type": "code",
      "source": [
        "def main2() -> int:\n",
        "    device = torch.device(\"cuda\" if torch.cuda.is_available() else \"cpu\")\n",
        "\n",
        "    model = DQN(env.observation_space, env.action_space, 128).to(device)\n",
        "    target = DQN(env.observation_space, env.action_space, 128).to(device)\n",
        "    TARGET_UPDATE_FREQ = 1000\n",
        "\n",
        "    optimizer = optim.Adam(model.parameters(), lr=.0001)\n",
        "    loss_fn = nn.MSELoss()\n",
        "    memory = Memory(20_000)\n",
        "\n",
        "    episode_count = 0\n",
        "\n",
        "    obs = env.reset()\n",
        "    total_reward = 0\n",
        "\n",
        "    for iteration in range(100_000):\n",
        "\n",
        "\n",
        "        # generate experiences first using epsilon greedy\n",
        "\n",
        "        if np.random.random() <= epsilon_greedy(1.0, .01, 15_000, iteration): # choose some random number in [0,1). If lower than epsilon, then take some ranom action\n",
        "            action = env.action_space.sample() # choose either 0 / 1\n",
        "\n",
        "        else: # takes the action that gives the max returns\n",
        "            state = wrap_input(obs, device).unsqueeze(0) # obtain the current state of the iteration and converts it into a tensor - unsqueeze(0) adds another dimenson at index=0 - [a,b,c,d] => [[a,b,c,d]], since for single state, the batch size = 1 and we need the extra dimention to indicate that the size = 1.\n",
        "            action  = model(state).argmax().item() # feeds state inside the model, and obtain the index of the q-value that is the max in the form of a tensor, .item() to convert it to an index which is our action.\n",
        "\n",
        "        next_state, reward, done, info = env.step(action) # observations after take the action\n",
        "        total_reward += reward\n",
        "\n",
        "        if done: # check for termination\n",
        "            next_state = np.zeros(env.observation_space.shape) # observation state all 0s if termination - prevents None Error\n",
        "\n",
        "        memory.store([obs, action, reward, int(done), next_state]) # stores the observation of the future state - Becomes experience\n",
        "\n",
        "        obs = next_state\n",
        "\n",
        "        if done:\n",
        "            print(\"total_reward = \", total_reward)\n",
        "            obs = env.reset()\n",
        "            total_reward = 0\n",
        "            episode_count += 1\n",
        "\n",
        "\n",
        "        # Train if enough experiences\n",
        "        if len(memory) > 500:\n",
        "            model.train()\n",
        "            states, actions, rewards, dones, next_states = memory.sample(128) # takes a batch of 128 experiences & seperate all the states, actions ...\n",
        "\n",
        "            # prepare inputs\n",
        "            states = wrap_input(states, device)\n",
        "            actions = wrap_input(actions, device, torch.int64, reshape=True)\n",
        "            next_states = wrap_input(next_states, device)\n",
        "            rewards = wrap_input(rewards, device, reshape=True)\n",
        "            dones = wrap_input(dones, device, reshape=True)\n",
        "\n",
        "            qs = model(states)   # qs is a tensor of q values = [[x1,y1], [x2,y2]....] - With each tensor being Q value for taking action 0/1 in each state\n",
        "\n",
        "            qs = torch.gather(qs, dim=1, index=actions) # we dont want all the Q values, rather the Q values that are associated with the values that we have already taken in our experience\n",
        "            # Eventually, we get qs = [[q1],[q2]..] => predicted Q value for the actual action that we have taken\n",
        "\n",
        "            # Compute target q-values using future state Q value\n",
        "            with torch.no_grad():\n",
        "                next_qs, _ = target(next_states).max(dim=1) # find Q of the fuuture state  - Using the target network\n",
        "\n",
        "                next_qs = next_qs.reshape(-1, 1) # Reshape such that [0.5, 0.7, 0.6, 0.4] => [[0.5], [0.7], [0.6], [0.4]] => (-1 = adjust the number of rows as needed based on the number of inputs, 1 = 1 column)\n",
        "\n",
        "            target_qs = rewards + .9 * (1 - dones) * next_qs # Q = Q(s`,a`) r+γmax(s`,a`)\n",
        "\n",
        "            if iteration % TARGET_UPDATE_FREQ == 0: # soft update\n",
        "              target.load_state_dict(model.state_dict())\n",
        "              print(\"target net updated\")\n",
        "\n",
        "            # Compute loss\n",
        "            loss = loss_fn(qs, target_qs)\n",
        "            optimizer.zero_grad()\n",
        "            loss.backward()\n",
        "\n",
        "            # Backprop\n",
        "            optimizer.step()\n",
        "    print(\"Episode Count\",episode_count)\n",
        "    torch.save(model.state_dict(), 'checkpoint2.pth')\n"
      ],
      "metadata": {
        "id": "UGhuFAMihPZs"
      },
      "execution_count": 29,
      "outputs": []
    },
    {
      "cell_type": "code",
      "source": [
        "main2()"
      ],
      "metadata": {
        "colab": {
          "base_uri": "https://localhost:8080/",
          "height": 1000
        },
        "id": "3CoELwEFh6Sd",
        "outputId": "69212725-725e-409a-bf24-d21138da6648"
      },
      "execution_count": 30,
      "outputs": [
        {
          "output_type": "stream",
          "name": "stdout",
          "text": [
            "total_reward =  21.0\n",
            "total_reward =  23.0\n",
            "total_reward =  10.0\n",
            "total_reward =  24.0\n",
            "total_reward =  13.0\n",
            "total_reward =  23.0\n",
            "total_reward =  16.0\n",
            "total_reward =  32.0\n",
            "total_reward =  20.0\n",
            "total_reward =  15.0\n",
            "total_reward =  24.0\n",
            "total_reward =  16.0\n",
            "total_reward =  16.0\n",
            "total_reward =  11.0\n",
            "total_reward =  25.0\n",
            "total_reward =  13.0\n",
            "total_reward =  27.0\n",
            "total_reward =  14.0\n",
            "total_reward =  14.0\n",
            "total_reward =  14.0\n",
            "total_reward =  29.0\n",
            "total_reward =  20.0\n",
            "total_reward =  25.0\n",
            "total_reward =  17.0\n",
            "total_reward =  38.0\n",
            "total_reward =  19.0\n",
            "total_reward =  16.0\n",
            "total_reward =  25.0\n",
            "total_reward =  22.0\n",
            "total_reward =  33.0\n",
            "total_reward =  14.0\n",
            "total_reward =  38.0\n",
            "total_reward =  14.0\n",
            "total_reward =  23.0\n",
            "total_reward =  22.0\n",
            "total_reward =  10.0\n",
            "total_reward =  28.0\n",
            "total_reward =  39.0\n",
            "total_reward =  19.0\n",
            "total_reward =  34.0\n",
            "total_reward =  28.0\n",
            "total_reward =  36.0\n",
            "total_reward =  57.0\n",
            "total_reward =  21.0\n",
            "target net updated\n",
            "total_reward =  26.0\n",
            "total_reward =  11.0\n",
            "total_reward =  15.0\n",
            "total_reward =  11.0\n",
            "total_reward =  12.0\n",
            "total_reward =  16.0\n",
            "total_reward =  16.0\n",
            "total_reward =  9.0\n",
            "total_reward =  23.0\n",
            "total_reward =  10.0\n",
            "total_reward =  22.0\n",
            "total_reward =  15.0\n",
            "total_reward =  16.0\n",
            "total_reward =  39.0\n",
            "total_reward =  14.0\n",
            "total_reward =  22.0\n",
            "total_reward =  15.0\n",
            "total_reward =  38.0\n",
            "total_reward =  14.0\n",
            "total_reward =  15.0\n",
            "total_reward =  17.0\n",
            "total_reward =  12.0\n",
            "total_reward =  12.0\n",
            "total_reward =  15.0\n",
            "total_reward =  11.0\n",
            "total_reward =  14.0\n",
            "total_reward =  25.0\n",
            "total_reward =  11.0\n",
            "total_reward =  18.0\n",
            "total_reward =  20.0\n",
            "total_reward =  15.0\n",
            "total_reward =  15.0\n",
            "total_reward =  37.0\n",
            "total_reward =  16.0\n",
            "total_reward =  15.0\n",
            "total_reward =  18.0\n",
            "total_reward =  15.0\n",
            "total_reward =  28.0\n",
            "total_reward =  11.0\n",
            "total_reward =  10.0\n",
            "total_reward =  19.0\n",
            "total_reward =  31.0\n",
            "total_reward =  36.0\n"
          ]
        },
        {
          "output_type": "error",
          "ename": "KeyboardInterrupt",
          "evalue": "",
          "traceback": [
            "\u001b[0;31m---------------------------------------------------------------------------\u001b[0m",
            "\u001b[0;31mKeyboardInterrupt\u001b[0m                         Traceback (most recent call last)",
            "\u001b[0;32m<ipython-input-30-9fde456d88c4>\u001b[0m in \u001b[0;36m<cell line: 1>\u001b[0;34m()\u001b[0m\n\u001b[0;32m----> 1\u001b[0;31m \u001b[0mmain2\u001b[0m\u001b[0;34m(\u001b[0m\u001b[0;34m)\u001b[0m\u001b[0;34m\u001b[0m\u001b[0;34m\u001b[0m\u001b[0m\n\u001b[0m",
            "\u001b[0;32m<ipython-input-29-3b6090be5361>\u001b[0m in \u001b[0;36mmain2\u001b[0;34m()\u001b[0m\n\u001b[1;32m     50\u001b[0m \u001b[0;34m\u001b[0m\u001b[0m\n\u001b[1;32m     51\u001b[0m             \u001b[0;31m# prepare inputs\u001b[0m\u001b[0;34m\u001b[0m\u001b[0;34m\u001b[0m\u001b[0m\n\u001b[0;32m---> 52\u001b[0;31m             \u001b[0mstates\u001b[0m \u001b[0;34m=\u001b[0m \u001b[0mwrap_input\u001b[0m\u001b[0;34m(\u001b[0m\u001b[0mstates\u001b[0m\u001b[0;34m,\u001b[0m \u001b[0mdevice\u001b[0m\u001b[0;34m)\u001b[0m\u001b[0;34m\u001b[0m\u001b[0;34m\u001b[0m\u001b[0m\n\u001b[0m\u001b[1;32m     53\u001b[0m             \u001b[0mactions\u001b[0m \u001b[0;34m=\u001b[0m \u001b[0mwrap_input\u001b[0m\u001b[0;34m(\u001b[0m\u001b[0mactions\u001b[0m\u001b[0;34m,\u001b[0m \u001b[0mdevice\u001b[0m\u001b[0;34m,\u001b[0m \u001b[0mtorch\u001b[0m\u001b[0;34m.\u001b[0m\u001b[0mint64\u001b[0m\u001b[0;34m,\u001b[0m \u001b[0mreshape\u001b[0m\u001b[0;34m=\u001b[0m\u001b[0;32mTrue\u001b[0m\u001b[0;34m)\u001b[0m\u001b[0;34m\u001b[0m\u001b[0;34m\u001b[0m\u001b[0m\n\u001b[1;32m     54\u001b[0m             \u001b[0mnext_states\u001b[0m \u001b[0;34m=\u001b[0m \u001b[0mwrap_input\u001b[0m\u001b[0;34m(\u001b[0m\u001b[0mnext_states\u001b[0m\u001b[0;34m,\u001b[0m \u001b[0mdevice\u001b[0m\u001b[0;34m)\u001b[0m\u001b[0;34m\u001b[0m\u001b[0;34m\u001b[0m\u001b[0m\n",
            "\u001b[0;32m<ipython-input-10-80632edd9fb9>\u001b[0m in \u001b[0;36mwrap_input\u001b[0;34m(arr, device, dtype, reshape)\u001b[0m\n\u001b[1;32m     45\u001b[0m         \u001b[0;32mreturn\u001b[0m \u001b[0mself\u001b[0m\u001b[0;34m.\u001b[0m\u001b[0mnet\u001b[0m\u001b[0;34m(\u001b[0m\u001b[0mobs\u001b[0m\u001b[0;34m)\u001b[0m\u001b[0;34m\u001b[0m\u001b[0;34m\u001b[0m\u001b[0m\n\u001b[1;32m     46\u001b[0m \u001b[0;34m\u001b[0m\u001b[0m\n\u001b[0;32m---> 47\u001b[0;31m \u001b[0;32mdef\u001b[0m \u001b[0mwrap_input\u001b[0m\u001b[0;34m(\u001b[0m\u001b[0marr\u001b[0m\u001b[0;34m,\u001b[0m \u001b[0mdevice\u001b[0m\u001b[0;34m,\u001b[0m \u001b[0mdtype\u001b[0m\u001b[0;34m=\u001b[0m\u001b[0mtorch\u001b[0m\u001b[0;34m.\u001b[0m\u001b[0mfloat\u001b[0m\u001b[0;34m,\u001b[0m \u001b[0mreshape\u001b[0m\u001b[0;34m=\u001b[0m\u001b[0;32mFalse\u001b[0m\u001b[0;34m)\u001b[0m\u001b[0;34m:\u001b[0m\u001b[0;34m\u001b[0m\u001b[0;34m\u001b[0m\u001b[0m\n\u001b[0m\u001b[1;32m     48\u001b[0m     '''\n\u001b[1;32m     49\u001b[0m     \u001b[0mTakes\u001b[0m \u001b[0mthe\u001b[0m \u001b[0marray\u001b[0m \u001b[0;32mand\u001b[0m \u001b[0mconverts\u001b[0m \u001b[0mit\u001b[0m \u001b[0minto\u001b[0m \u001b[0ma\u001b[0m \u001b[0mtensor\u001b[0m \u001b[0;34m&\u001b[0m \u001b[0mtypecasted\u001b[0m\u001b[0;34m\u001b[0m\u001b[0;34m\u001b[0m\u001b[0m\n",
            "\u001b[0;31mKeyboardInterrupt\u001b[0m: "
          ]
        }
      ]
    },
    {
      "cell_type": "markdown",
      "source": [
        "## Task 2: Demonstrate the effectiveness of the RL agent"
      ],
      "metadata": {
        "id": "-XtIQ0Rti1gm"
      }
    },
    {
      "cell_type": "markdown",
      "source": [
        "For this task, use the agent developed in Task 1 to play the game for 100 episodes (refer to tutorial for how to play a round), record the cumulative reward for each round, and plot the reward for each round. A sample plotting code is given below. Note that you must include code to play for 100 episodes and use the code to obtain round_results for plotting. DO NOT record the round results in advance and paste the results to the notebook."
      ],
      "metadata": {
        "id": "djBEShf0kGI4"
      }
    },
    {
      "cell_type": "markdown",
      "source": [
        "Print the average reward over the 100 episodes."
      ],
      "metadata": {
        "id": "XndSYH7wlvn7"
      }
    },
    {
      "cell_type": "code",
      "source": [
        "def test_model():\n",
        "\n",
        "    device = torch.device(\"cuda\" if torch.cuda.is_available() else \"cpu\")\n",
        "\n",
        "    model = DQN(env.observation_space, env.action_space, 128).to(device)\n",
        "\n",
        "    state_dict = torch.load('checkpoint.pth')\n",
        "    model.load_state_dict(state_dict)\n",
        "    model.eval()\n",
        "\n",
        "    total_rewards = []\n",
        "\n",
        "    for episode in range(100):\n",
        "        obs = env.reset()\n",
        "        episode_reward = 0\n",
        "\n",
        "        while True: # unil the episodes reaches termination\n",
        "            state = wrap_input(obs, device).unsqueeze(0)\n",
        "            action = model(state).argmax().item()  # Select action based on model's prediction\n",
        "            obs, reward, done, _ = env.step(action)\n",
        "            episode_reward += reward\n",
        "\n",
        "            if done:\n",
        "                break\n",
        "\n",
        "        total_rewards.append(episode_reward)\n",
        "        print(f\"Episode {episode + 1}: Total Reward = {episode_reward}\")\n",
        "\n",
        "    avg_reward = sum(total_rewards) / len(total_rewards)\n",
        "    print(f\"Average Reward over 100 episodes: {avg_reward}\")\n",
        "    return total_rewards\n",
        "\n",
        "total_rewards = test_model()\n"
      ],
      "metadata": {
        "colab": {
          "base_uri": "https://localhost:8080/"
        },
        "id": "pOiOp9OYlo5Y",
        "outputId": "57f7db84-aa2d-4f97-bb5f-35943b766652"
      },
      "execution_count": 31,
      "outputs": [
        {
          "output_type": "stream",
          "name": "stdout",
          "text": [
            "Episode 1: Total Reward = 369.0\n",
            "Episode 2: Total Reward = 273.0\n",
            "Episode 3: Total Reward = 238.0\n",
            "Episode 4: Total Reward = 263.0\n",
            "Episode 5: Total Reward = 244.0\n",
            "Episode 6: Total Reward = 284.0\n",
            "Episode 7: Total Reward = 335.0\n",
            "Episode 8: Total Reward = 338.0\n",
            "Episode 9: Total Reward = 250.0\n",
            "Episode 10: Total Reward = 287.0\n",
            "Episode 11: Total Reward = 358.0\n",
            "Episode 12: Total Reward = 346.0\n",
            "Episode 13: Total Reward = 254.0\n",
            "Episode 14: Total Reward = 294.0\n",
            "Episode 15: Total Reward = 325.0\n",
            "Episode 16: Total Reward = 269.0\n",
            "Episode 17: Total Reward = 293.0\n",
            "Episode 18: Total Reward = 314.0\n",
            "Episode 19: Total Reward = 276.0\n",
            "Episode 20: Total Reward = 247.0\n",
            "Episode 21: Total Reward = 293.0\n",
            "Episode 22: Total Reward = 275.0\n",
            "Episode 23: Total Reward = 226.0\n",
            "Episode 24: Total Reward = 213.0\n",
            "Episode 25: Total Reward = 391.0\n",
            "Episode 26: Total Reward = 221.0\n",
            "Episode 27: Total Reward = 308.0\n",
            "Episode 28: Total Reward = 396.0\n",
            "Episode 29: Total Reward = 268.0\n",
            "Episode 30: Total Reward = 250.0\n",
            "Episode 31: Total Reward = 285.0\n",
            "Episode 32: Total Reward = 255.0\n",
            "Episode 33: Total Reward = 348.0\n",
            "Episode 34: Total Reward = 329.0\n",
            "Episode 35: Total Reward = 301.0\n",
            "Episode 36: Total Reward = 231.0\n",
            "Episode 37: Total Reward = 255.0\n",
            "Episode 38: Total Reward = 500.0\n",
            "Episode 39: Total Reward = 500.0\n",
            "Episode 40: Total Reward = 261.0\n",
            "Episode 41: Total Reward = 318.0\n",
            "Episode 42: Total Reward = 273.0\n",
            "Episode 43: Total Reward = 305.0\n",
            "Episode 44: Total Reward = 289.0\n",
            "Episode 45: Total Reward = 249.0\n",
            "Episode 46: Total Reward = 358.0\n",
            "Episode 47: Total Reward = 336.0\n",
            "Episode 48: Total Reward = 234.0\n",
            "Episode 49: Total Reward = 242.0\n",
            "Episode 50: Total Reward = 250.0\n",
            "Episode 51: Total Reward = 344.0\n",
            "Episode 52: Total Reward = 335.0\n",
            "Episode 53: Total Reward = 262.0\n",
            "Episode 54: Total Reward = 273.0\n",
            "Episode 55: Total Reward = 252.0\n",
            "Episode 56: Total Reward = 251.0\n",
            "Episode 57: Total Reward = 259.0\n",
            "Episode 58: Total Reward = 233.0\n",
            "Episode 59: Total Reward = 223.0\n",
            "Episode 60: Total Reward = 500.0\n",
            "Episode 61: Total Reward = 348.0\n",
            "Episode 62: Total Reward = 426.0\n",
            "Episode 63: Total Reward = 289.0\n",
            "Episode 64: Total Reward = 263.0\n",
            "Episode 65: Total Reward = 293.0\n",
            "Episode 66: Total Reward = 312.0\n",
            "Episode 67: Total Reward = 407.0\n",
            "Episode 68: Total Reward = 342.0\n",
            "Episode 69: Total Reward = 270.0\n",
            "Episode 70: Total Reward = 367.0\n",
            "Episode 71: Total Reward = 270.0\n",
            "Episode 72: Total Reward = 316.0\n",
            "Episode 73: Total Reward = 392.0\n",
            "Episode 74: Total Reward = 259.0\n",
            "Episode 75: Total Reward = 500.0\n",
            "Episode 76: Total Reward = 256.0\n",
            "Episode 77: Total Reward = 500.0\n",
            "Episode 78: Total Reward = 500.0\n",
            "Episode 79: Total Reward = 384.0\n",
            "Episode 80: Total Reward = 379.0\n",
            "Episode 81: Total Reward = 259.0\n",
            "Episode 82: Total Reward = 233.0\n",
            "Episode 83: Total Reward = 314.0\n",
            "Episode 84: Total Reward = 264.0\n",
            "Episode 85: Total Reward = 500.0\n",
            "Episode 86: Total Reward = 244.0\n",
            "Episode 87: Total Reward = 303.0\n",
            "Episode 88: Total Reward = 313.0\n",
            "Episode 89: Total Reward = 230.0\n",
            "Episode 90: Total Reward = 270.0\n",
            "Episode 91: Total Reward = 500.0\n",
            "Episode 92: Total Reward = 250.0\n",
            "Episode 93: Total Reward = 248.0\n",
            "Episode 94: Total Reward = 413.0\n",
            "Episode 95: Total Reward = 292.0\n",
            "Episode 96: Total Reward = 405.0\n",
            "Episode 97: Total Reward = 281.0\n",
            "Episode 98: Total Reward = 309.0\n",
            "Episode 99: Total Reward = 257.0\n",
            "Episode 100: Total Reward = 330.0\n",
            "Average Reward over 100 episodes: 310.37\n"
          ]
        }
      ]
    },
    {
      "cell_type": "code",
      "source": [
        "plt.plot(total_rewards)\n",
        "plt.title('Cumulative reward for each episode')\n",
        "plt.ylabel('Cumulative reward')\n",
        "plt.xlabel('episode')\n",
        "plt.show()"
      ],
      "metadata": {
        "colab": {
          "base_uri": "https://localhost:8080/",
          "height": 472
        },
        "id": "y8vGhenllmid",
        "outputId": "4d94a8bd-0334-4c71-a5fe-551cc07af022"
      },
      "execution_count": 32,
      "outputs": [
        {
          "output_type": "display_data",
          "data": {
            "text/plain": [
              "<Figure size 640x480 with 1 Axes>"
            ],
            "image/png": "[encoded data removed]"
          },
          "metadata": {}
        }
      ]
    },
    {
      "cell_type": "code",
      "source": [
        "print(\"Average cumulative reward:\", sum(total_rewards) / len(total_rewards))\n",
        "print(\"Is my agent good enough?\", sum(total_rewards) / len(total_rewards) > 195)"
      ],
      "metadata": {
        "colab": {
          "base_uri": "https://localhost:8080/"
        },
        "id": "sAuTjds2l4Wh",
        "outputId": "af454aac-71f7-40fe-8d8c-4f2e60024403"
      },
      "execution_count": 33,
      "outputs": [
        {
          "output_type": "stream",
          "name": "stdout",
          "text": [
            "Average cumulative reward: 310.37\n",
            "Is my agent good enough? True\n"
          ]
        }
      ]
    },
    {
      "cell_type": "markdown",
      "source": [
        "## Task 3: Render one episode played by the agent"
      ],
      "metadata": {
        "id": "Yg0DCT38lFA6"
      }
    },
    {
      "cell_type": "markdown",
      "source": [
        "Plug your agent to the code below to obtain rendered result."
      ],
      "metadata": {
        "id": "vx1awMr9lc_w"
      }
    },
    {
      "cell_type": "code",
      "source": [
        "env = RecordVideo(gym.make(\"CartPole-v1\"), \"./video\")\n",
        "observation = env.reset()\n",
        "while True:\n",
        "    env.render()\n",
        "    #your agent goes here\n",
        "    action = rand_policy_agent(observation)\n",
        "    observation, reward, done, info = env.step(action)\n",
        "    if done:\n",
        "      break;\n",
        "env.close()\n",
        "show_video()"
      ],
      "metadata": {
        "colab": {
          "base_uri": "https://localhost:8080/",
          "height": 421
        },
        "id": "LYyavfbIa47D",
        "outputId": "10c2f1e7-f3b9-4975-ed25-7c380966a56c"
      },
      "execution_count": null,
      "outputs": [
        {
          "output_type": "display_data",
          "data": {
            "text/plain": [
              "<IPython.core.display.HTML object>"
            ],
            "text/html": [
              "<video alt=\"test\" autoplay \n",
              "                loop controls style=\"height: 400px;\">\n",
              "                <source src=\"data:video/mp4;base64,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\" type=\"video/mp4\" />\n",
              "             </video>"
            ]
          },
          "metadata": {}
        }
      ]
    }
  ]
}