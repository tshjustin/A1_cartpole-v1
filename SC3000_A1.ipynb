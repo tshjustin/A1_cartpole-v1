{
  "nbformat": 4,
  "nbformat_minor": 0,
  "metadata": {
    "colab": {
      "provenance": [],
      "include_colab_link": true
    },
    "kernelspec": {
      "name": "python3",
      "display_name": "Python 3"
    },
    "language_info": {
      "name": "python"
    }
  },
  "cells": [
    {
      "cell_type": "markdown",
      "metadata": {
        "id": "view-in-github",
        "colab_type": "text"
      },
      "source": [
        "<a href=\"https://colab.research.google.com/github/tshjustin/A1_cartpole-v1/blob/main/SC3000_A1.ipynb\" target=\"_parent\"><img src=\"https://colab.research.google.com/assets/colab-badge.svg\" alt=\"Open In Colab\"/></a>"
      ]
    },
    {
      "cell_type": "markdown",
      "source": [
        "## SC3000 Assignment 1:\n",
        "\n",
        "Justin Tan : U2221024B\n",
        "\n",
        "Jared Ng: U2221802L\n",
        "\n",
        "Amit: U2220363B"
      ],
      "metadata": {
        "id": "ZauhjPSfX7pI"
      }
    },
    {
      "cell_type": "markdown",
      "source": [
        "## Installing dependencies:"
      ],
      "metadata": {
        "id": "UBiYOoesYMvr"
      }
    },
    {
      "cell_type": "code",
      "execution_count": null,
      "metadata": {
        "colab": {
          "base_uri": "https://localhost:8080/",
          "height": 547
        },
        "id": "PbgnVwZmX5uW",
        "outputId": "a95b8573-d623-48a1-94b0-b769e5def766"
      },
      "outputs": [
        {
          "output_type": "stream",
          "name": "stdout",
          "text": [
            "Requirement already satisfied: gym[classic_control] in /usr/local/lib/python3.10/dist-packages (0.25.2)\n",
            "Requirement already satisfied: numpy>=1.18.0 in /usr/local/lib/python3.10/dist-packages (from gym[classic_control]) (1.25.2)\n",
            "Requirement already satisfied: cloudpickle>=1.2.0 in /usr/local/lib/python3.10/dist-packages (from gym[classic_control]) (2.2.1)\n",
            "Requirement already satisfied: gym-notices>=0.0.4 in /usr/local/lib/python3.10/dist-packages (from gym[classic_control]) (0.0.8)\n",
            "Collecting pygame==2.1.0 (from gym[classic_control])\n",
            "  Downloading pygame-2.1.0-cp310-cp310-manylinux_2_17_x86_64.manylinux2014_x86_64.whl (18.3 MB)\n",
            "\u001b[2K     \u001b[90m━━━━━━━━━━━━━━━━━━━━━━━━━━━━━━━━━━━━━━━━\u001b[0m \u001b[32m18.3/18.3 MB\u001b[0m \u001b[31m40.5 MB/s\u001b[0m eta \u001b[36m0:00:00\u001b[0m\n",
            "\u001b[?25hInstalling collected packages: pygame\n",
            "  Attempting uninstall: pygame\n",
            "    Found existing installation: pygame 2.5.2\n",
            "    Uninstalling pygame-2.5.2:\n",
            "      Successfully uninstalled pygame-2.5.2\n",
            "Successfully installed pygame-2.1.0\n",
            "Requirement already satisfied: setuptools in /usr/local/lib/python3.10/dist-packages (67.7.2)\n",
            "Collecting setuptools\n",
            "  Downloading setuptools-69.2.0-py3-none-any.whl (821 kB)\n",
            "\u001b[2K     \u001b[90m━━━━━━━━━━━━━━━━━━━━━━━━━━━━━━━━━━━━━━━━\u001b[0m \u001b[32m821.5/821.5 kB\u001b[0m \u001b[31m11.1 MB/s\u001b[0m eta \u001b[36m0:00:00\u001b[0m\n",
            "\u001b[?25hInstalling collected packages: setuptools\n",
            "  Attempting uninstall: setuptools\n",
            "    Found existing installation: setuptools 67.7.2\n",
            "    Uninstalling setuptools-67.7.2:\n",
            "      Successfully uninstalled setuptools-67.7.2\n",
            "\u001b[31mERROR: pip's dependency resolver does not currently take into account all the packages that are installed. This behaviour is the source of the following dependency conflicts.\n",
            "ipython 7.34.0 requires jedi>=0.16, which is not installed.\u001b[0m\u001b[31m\n",
            "\u001b[0mSuccessfully installed setuptools-69.2.0\n"
          ]
        },
        {
          "output_type": "display_data",
          "data": {
            "application/vnd.colab-display-data+json": {
              "pip_warning": {
                "packages": [
                  "_distutils_hack",
                  "pkg_resources",
                  "setuptools"
                ]
              },
              "id": "d215edca1215453fa839cf78d6b532d3"
            }
          },
          "metadata": {}
        }
      ],
      "source": [
        "!apt-get install -y xvfb python-opengl > /dev/null 2>&1\n",
        "!pip install gym pyvirtualdisplay > /dev/null 2>&1\n",
        "!pip install gym pyvirtualdisplay > /dev/null 2>&1\n",
        "!apt-get install -y xvfb python-opengl ffmpeg > /dev/null 2>&1\n",
        "!pip install gym[classic_control]\n",
        "!apt-get update > /dev/null 2>&1\n",
        "!apt-get install cmake > /dev/null 2>&1\n",
        "!pip install --upgrade setuptools 2>&1\n",
        "!pip install ez_setup > /dev/null 2>&1"
      ]
    },
    {
      "cell_type": "markdown",
      "source": [
        "## Importing dependencies and define helper functions"
      ],
      "metadata": {
        "id": "RwKbYeTgbaTA"
      }
    },
    {
      "cell_type": "code",
      "source": [
        "import gym\n",
        "from gym import logger as gymlogger\n",
        "from gym.wrappers import RecordVideo\n",
        "gymlogger.set_level(40) #error only\n",
        "import tensorflow as tf\n",
        "import numpy as np\n",
        "import random\n",
        "import matplotlib\n",
        "import matplotlib.pyplot as plt\n",
        "%matplotlib inline\n",
        "import math\n",
        "import glob\n",
        "import io\n",
        "import base64\n",
        "from IPython.display import HTML\n",
        "from IPython import display as ipythondisplay\n",
        "\n",
        "def show_video():\n",
        "  mp4list = glob.glob('video/*.mp4')\n",
        "  if len(mp4list) > 0:\n",
        "    mp4 = mp4list[0]\n",
        "    video = io.open(mp4, 'r+b').read()\n",
        "    encoded = base64.b64encode(video)\n",
        "    ipythondisplay.display(HTML(data='''<video alt=\"test\" autoplay\n",
        "                loop controls style=\"height: 400px;\">\n",
        "                <source src=\"data:video/mp4;base64,{0}\" type=\"video/mp4\" />\n",
        "             </video>'''.format(encoded.decode('ascii'))))\n",
        "  else:\n",
        "    print(\"Could not find video\")"
      ],
      "metadata": {
        "id": "j6KpgCLGYWmj"
      },
      "execution_count": 4,
      "outputs": []
    },
    {
      "cell_type": "markdown",
      "source": [
        "## Firstly, we define the Cartpole problem and examine the format of `action space`, `observation space`"
      ],
      "metadata": {
        "id": "ehbqP9CXbmo7"
      }
    },
    {
      "cell_type": "code",
      "source": [
        "env = gym.make(\"CartPole-v1\")\n",
        "print(env.action_space) # Possible actions in the env\n",
        "print(env.observation_space)\n",
        "\n",
        "print(\"Number of features of the environment: \", env.observation_space.shape[0])"
      ],
      "metadata": {
        "id": "Go12dH4qbwBy",
        "outputId": "008b0d06-c4da-4266-ac12-59844f4bb1e8",
        "colab": {
          "base_uri": "https://localhost:8080/"
        }
      },
      "execution_count": 5,
      "outputs": [
        {
          "output_type": "stream",
          "name": "stdout",
          "text": [
            "Discrete(2)\n",
            "Box([-4.8000002e+00 -3.4028235e+38 -4.1887903e-01 -3.4028235e+38], [4.8000002e+00 3.4028235e+38 4.1887903e-01 3.4028235e+38], (4,), float32)\n",
            "Number of features of the environment:  4\n"
          ]
        },
        {
          "output_type": "stream",
          "name": "stderr",
          "text": [
            "/usr/local/lib/python3.10/dist-packages/ipykernel/ipkernel.py:283: DeprecationWarning: `should_run_async` will not call `transform_cell` automatically in the future. Please pass the result to `transformed_cell` argument and any exception that happen during thetransform in `preprocessing_exc_tuple` in IPython 7.17 and above.\n",
            "  and should_run_async(code)\n"
          ]
        }
      ]
    },
    {
      "cell_type": "markdown",
      "source": [
        "1. Action Space: Discrete(2) means that there are two valid discrete actions: 0 & 1.\n",
        "\n",
        "\n",
        "2. Observation Space: In the format: `[pos,velocity,angle,velocity]`. The first two arrays define the min and max values of the 4 observed values, corresponding to cart position, velocity and pole angle, angular velocity.\n",
        "\n",
        "Now we explore performing an action in the environement and unpacking the values we obtain from a given action. This allows us to extract the features that we require when formulating the problem."
      ],
      "metadata": {
        "id": "9XZ9g3xrcAXE"
      }
    },
    {
      "cell_type": "code",
      "source": [
        "observation = env.reset()\n",
        "print(\"Initial observations:\", observation) # initial state values\n",
        "\n",
        "observation, reward, done, info = env.step(0) # executes an action in the env\n",
        "print(\"New observations after choosing action 0:\", observation)\n",
        "print(\"Reward for this step:\", reward)\n",
        "print(\"Is this round done?\", done) # Done depends when one of the 3 conditions of termiantion are met"
      ],
      "metadata": {
        "colab": {
          "base_uri": "https://localhost:8080/"
        },
        "id": "VMr6qAqxdOsm",
        "outputId": "815a2e0f-d65f-4f58-bdea-d0ea2e6bf70f"
      },
      "execution_count": 6,
      "outputs": [
        {
          "output_type": "stream",
          "name": "stdout",
          "text": [
            "Initial observations: [ 0.01350721  0.02909834 -0.04511569 -0.04137247]\n",
            "New observations after choosing action 0: [ 0.01408918 -0.1653486  -0.04594314  0.23674165]\n",
            "Reward for this step: 1.0\n",
            "Is this round done? False\n"
          ]
        },
        {
          "output_type": "stream",
          "name": "stderr",
          "text": [
            "/usr/local/lib/python3.10/dist-packages/gym/utils/passive_env_checker.py:241: DeprecationWarning: `np.bool8` is a deprecated alias for `np.bool_`.  (Deprecated NumPy 1.24)\n",
            "  if not isinstance(terminated, (bool, np.bool8)):\n"
          ]
        }
      ]
    },
    {
      "cell_type": "markdown",
      "source": [
        "## Task 1:\n",
        "\n",
        "### Algorithm used\n",
        "We used Deep Q networks to train the Agent due to the many possible position (States) of the agent. Although there are only 2 actions, the agent state represented as `[pos,velocity,angle,velocity]` have infinite states, thus using a Q table to store all the Q values would be computationally expensive.\n",
        "\n",
        "Rather than keeping track of the Q value, we used DQN to obtain a function that estimate for the Q value, depending on the State of the agent.\n",
        "\n",
        "\n",
        "### Pseudocode\n",
        "\n",
        "        Initialize the Replay Memory\n",
        "\n",
        "        Set a maximum size for the memory to store experiences.\n",
        "\n",
        "        Initialize the Q-Network and Target Network with Random Weights\n",
        "\n",
        "        For Each Episode:\n",
        "          Initialize the environment and get the initial state\n",
        "              For each time step or until the episode ends:\n",
        "                  Use an epsilon-greedy policy for action selection:\n",
        "                      With probability epsilon, select a random action;\n",
        "                      Otherwise, choose the action with the highest Q-value as predicted by the Q-Network.\n",
        "                  Execute the selected action in the environment.\n",
        "                  Observe the next state and reward from the environment.\n",
        "                  Store the experience (current state, action, reward, next state) in the Replay Memory.\n",
        "                  Sample a random mini-batch of experiences from the Replay Memory.\n",
        "                  For each experience in the mini-batch:\n",
        "                      Calculate the target Q-value:\n",
        "                          For non-terminal states: Target = reward + (discount rate * maximum Q-value of next state as predicted by the Target Network)\n",
        "                          For terminal states: Target = reward\n",
        "                      Update the Q-Network by minimizing the loss between its predicted Q-values and the calculated target Q-values.\n",
        "                      Every fixed number of steps, update the Target Network with the weights of the Q-Network.\n",
        "\n",
        "The primary update rule during training is using the temporal difference.\n",
        "1. `Q-Network Prediction`: For a given state-action pair $Q(s,a)$, the Q-Network provides an estimate for it.\n",
        "\n",
        "2. `Target-Network Prediction`: The target network provides a stable target for the next state. For the next state $s′$ resulting from taking action $a$, the Target Network is used to estimate the maximum future reward.\n",
        "This is represented as $max_aQ(s′,a′)$\n",
        "\n",
        "3. `Temporal Difference Target (TD Target)`: The TD Target is the sum of the immediate reward $r$ received after taking action $a$ in state $s$ plus the discounted maximum future reward predicted by the Target Network.\n",
        "$TD = r + \\gamma(max_aQ(s′,a′))$\n",
        "\n",
        "4. The error is calculated as:  $r + \\gamma(max_aQ(s′,a′)) - Q(s,a)$"
      ],
      "metadata": {
        "id": "2oIzK9SzhlWN"
      }
    },
    {
      "cell_type": "markdown",
      "source": [
        "## Key Objects\n",
        "\n",
        "#### 1 Experience Replay\n",
        "\n",
        " This stores the agent's experiences at each time step, encapsulated in a tuple `(state, action, reward, next_state, done)`\n",
        "\n",
        " Methods would allow for sampling and storing of agent's experience during training.\n",
        "\n",
        "#### 2 DQN Model\n",
        "Defines the neural network that approximates the Q-function, mapping state-action pairs to expected rewards. The architecture consists of fully connected layers, with ReLU activation functions for non-linearity between layers.\n",
        "\n",
        "Parameters:\n",
        "\n",
        "`n_observations`: The size of the observation space, defining the input layer size.\n",
        "\n",
        "`n_actions`: The size of the action space, defining the output layer size.\n",
        "\n",
        "`n_layers`: The size of the hidden layers.\n"
      ],
      "metadata": {
        "id": "9eX_MeI2JTOr"
      }
    },
    {
      "cell_type": "markdown",
      "source": [
        "## Expected Inputs and Outputs for each object\n",
        "\n",
        "### Network Model:\n",
        "\n",
        "`Input Layer`: Consists of 4 neurons, each corresponding to one of the state's features (cart position, cart velocity, pole angle, pole velocity at the tip).\n",
        "\n",
        "\n",
        "`Output Layer`: Consists of 2 neurons, each representing the Q-value for one of the possible actions (move left, move right).\n",
        "\n",
        "### Experience Batch Processing\n",
        "During training, batches of experience are passed into the model to break up sequential dependencies in episodes.\n",
        "\n",
        "`Input Format`: A batch of experiences is represented as a 2D array with the shape [Batch Size, Number of Observations] => [[0.1, 0.2, 0.3, 0.4], [0.5, 0.6, 0.7, 0.8], ...]\n",
        "\n",
        "`Output Format`: For each observation in the batch, the network outputs a pair of Q-values corresponding to the actions 'move left' and 'move right': [[Q-value(action1), Q-value(action2)], [Q-value(action1), Q-value(action2)], ...].\n",
        "\n",
        "\n",
        "\n",
        "\n",
        "\n"
      ],
      "metadata": {
        "id": "Cc6_e5c_huiq"
      }
    },
    {
      "cell_type": "code",
      "source": [
        "import torch\n",
        "from torch import nn\n",
        "from torch.nn import functional as F\n",
        "from torch import optim\n",
        "import random\n",
        "from collections import deque\n",
        "\n",
        "class Memory(object):\n",
        "    def __init__(self, maxlen):\n",
        "        self.memory = deque(maxlen=maxlen) # sets the maximum number of experiences - Oldeset entries removed while newest are placed at the end of the queue\n",
        "\n",
        "    def store(self, experience):\n",
        "        self.memory.append(experience) # adds an experience <state, action, reward, new state, done>\n",
        "\n",
        "    def sample(self, n_samples):\n",
        "        return zip(*random.sample(self.memory, n_samples)) # takes a random sample & transpose from [(state1, action1, reward1, next_state1, done1), (state2, action2, reward2, next_state2, done2) ...] -> (state1, state2), (action1, action2), (reward1, reward2), (next_state1, next_state2), (done1, done2)\n",
        "\n",
        "    def __len__(self):\n",
        "        return len(self.memory) # current size of memory buffer\n",
        "\n",
        "\n",
        "class DQN(nn.Module):\n",
        "    def __init__(self, n_observations, n_actions, n_layers):\n",
        "        super(DQN, self).__init__()\n",
        "\n",
        "        self.feature_extractor = env.observation_space.shape[0] # retrieve the number of features - This number of features corresponds to the number of input neurons of the model\n",
        "\n",
        "        # Neural network\n",
        "        self.net = nn.Sequential(\n",
        "            nn.Linear(self.feature_extractor, n_layers),\n",
        "            nn.ReLU(),\n",
        "            nn.Linear(n_layers, n_layers),\n",
        "            nn.ReLU(),\n",
        "            nn.Linear(n_layers, n_actions.n),\n",
        "        )\n",
        "\n",
        "    def forward(self, obs): # forward pass function to pass the input into the neural network\n",
        "        '''\n",
        "        params:\n",
        "        obs: observation / state of environemnt that is to be evaluated\n",
        "\n",
        "        return:\n",
        "        set of q values for the input state.\n",
        "        '''\n",
        "        return self.net(obs)\n",
        "\n",
        "def wrapper(arr, device, dtype=torch.float, reshape=False):\n",
        "    '''\n",
        "    Takes the array and converts it into a tensor & typecasted - Since the neural network expects an input in the form of a tensor\n",
        "    '''\n",
        "    output = torch.from_numpy(np.array(arr)).type(dtype).to(device)\n",
        "    if reshape: # in the case for neural networks that require 2d inputs\n",
        "        output = output.reshape(-1, 1)\n",
        "\n",
        "    return output\n",
        "\n",
        "def epsilon_greedy(start, end, n_steps, current_iteration):\n",
        "    '''\n",
        "    For early exploration and exploitation later on\n",
        "\n",
        "    Decays as iteration approaches the number of steps we defined\n",
        "    '''\n",
        "    decay_rate = (start - end) / n_steps\n",
        "    current_epsilon = start - (decay_rate * current_iteration)\n",
        "    epsilon = max(current_epsilon, end) # ensure that the decay rate dont drop below threshold\n",
        "\n",
        "    return epsilon"
      ],
      "metadata": {
        "id": "BmTOuHo3Feew"
      },
      "execution_count": 7,
      "outputs": []
    },
    {
      "cell_type": "code",
      "source": [
        "def train() -> int:\n",
        "    device = torch.device(\"cuda\" if torch.cuda.is_available() else \"cpu\")\n",
        "\n",
        "    model = DQN(env.observation_space, env.action_space, 128).to(device)\n",
        "    target = DQN(env.observation_space, env.action_space, 128).to(device)\n",
        "    TARGET_UPDATE_FREQ = 1000 # update\n",
        "\n",
        "    optimizer = optim.Adam(model.parameters(), lr=.0001)\n",
        "    loss_fn = nn.MSELoss()\n",
        "    memory = Memory(15_000)\n",
        "\n",
        "    episode_count = 0\n",
        "\n",
        "    obs = env.reset()\n",
        "    total_reward = 0\n",
        "\n",
        "    for iteration in range(150_000):\n",
        "\n",
        "        # generate experiences first using epsilon greedy\n",
        "\n",
        "        if np.random.random() <= epsilon_greedy(1.0, .01, 15_000, iteration): # choose some random number in [0,1). If lower than epsilon, then take some ranom action\n",
        "            action = env.action_space.sample() # choose either 0 / 1\n",
        "\n",
        "        else: # takes the action that gives the max returns\n",
        "            state = wrapper(obs, device).unsqueeze(0) # obtain the current state of the iteration and converts it into a tensor - unsqueeze(0) adds another dimenson at index=0 - [a,b,c,d] => [[a,b,c,d]], since for single state, the batch size = 1 and we need the extra dimention to indicate that the size = 1.\n",
        "            action  = model(state).argmax().item() # feeds state inside the model, and obtain the index of the q-value that is the max in the form of a tensor, .item() to convert it to an index which is our action.\n",
        "\n",
        "        next_state, reward, done, info = env.step(action) # observations after take the action\n",
        "        total_reward += reward\n",
        "\n",
        "        if done: # check for termination\n",
        "            next_state = np.zeros(env.observation_space.shape) # observation state all 0s if termination - prevents None Error\n",
        "\n",
        "        memory.store([obs, action, reward, int(done), next_state]) # stores the observation of the future state - Becomes experience\n",
        "\n",
        "        obs = next_state\n",
        "\n",
        "        if done:\n",
        "            print(\"total_reward = \", total_reward)\n",
        "            obs = env.reset()\n",
        "            total_reward = 0\n",
        "            episode_count += 1\n",
        "\n",
        "\n",
        "        # Train if enough experiences\n",
        "        if len(memory) > 500:\n",
        "            model.train()\n",
        "            states, actions, rewards, dones, next_states = memory.sample(128) # takes a batch of 128 experiences & seperate all the states, actions ...\n",
        "\n",
        "            # prepare inputs\n",
        "            states = wrapper(states, device)\n",
        "            actions = wrapper(actions, device, torch.int64, reshape=True)\n",
        "            next_states = wrapper(next_states, device)\n",
        "            rewards = wrapper(rewards, device, reshape=True)\n",
        "            dones = wrapper(dones, device, reshape=True)\n",
        "\n",
        "            qs = model(states)   # qs is a tensor of q values = [[x1,y1], [x2,y2]....] - With each tensor being Q value for taking action 0/1 in each state\n",
        "\n",
        "            qs = torch.gather(qs, dim=1, index=actions) # we dont want all the Q values, rather the Q values that are associated with the values that we have already taken in our experience\n",
        "            # Eventually, we get qs = [[q1],[q2]..] => predicted Q value for the actual action that we have taken\n",
        "\n",
        "            # Compute target q-values using future state Q value\n",
        "            with torch.no_grad():\n",
        "                next_qs, _ = target(next_states).max(dim=1) # find Q of the fuuture state  - Using the target network\n",
        "\n",
        "                next_qs = next_qs.reshape(-1, 1) # Reshape such that [0.5, 0.7, 0.6, 0.4] => [[0.5], [0.7], [0.6], [0.4]] => (-1 = adjust the number of rows as needed based on the number of inputs, 1 = 1 column)\n",
        "\n",
        "            target_qs = rewards + .9 * (1 - dones) * next_qs # Q = Q(s`,a`) r+γmax(s`,a`)\n",
        "\n",
        "            if iteration % TARGET_UPDATE_FREQ == 0: # Updates the target network with the Q networks\n",
        "              target.load_state_dict(model.state_dict())\n",
        "              print(\"target net updated\")\n",
        "\n",
        "            # Compute loss\n",
        "            loss = loss_fn(qs, target_qs)\n",
        "            optimizer.zero_grad()\n",
        "            loss.backward()\n",
        "\n",
        "            # Backpropogate the loss to update the weights of the neural network\n",
        "            optimizer.step()\n",
        "\n",
        "    print(\"Episode Count\",episode_count)\n",
        "    torch.save(model.state_dict(), 'checkpoint2.pth')\n"
      ],
      "metadata": {
        "id": "UGhuFAMihPZs",
        "outputId": "6aad7af2-e71e-4a5c-fdb7-91faa8656d16",
        "colab": {
          "base_uri": "https://localhost:8080/"
        }
      },
      "execution_count": 8,
      "outputs": [
        {
          "output_type": "stream",
          "name": "stderr",
          "text": [
            "/usr/local/lib/python3.10/dist-packages/ipykernel/ipkernel.py:283: DeprecationWarning: `should_run_async` will not call `transform_cell` automatically in the future. Please pass the result to `transformed_cell` argument and any exception that happen during thetransform in `preprocessing_exc_tuple` in IPython 7.17 and above.\n",
            "  and should_run_async(code)\n"
          ]
        }
      ]
    },
    {
      "cell_type": "code",
      "source": [
        "train()"
      ],
      "metadata": {
        "id": "3CoELwEFh6Sd",
        "outputId": "2c335e5e-1c81-4104-b9a5-38e6f2dd1999",
        "colab": {
          "base_uri": "https://localhost:8080/",
          "height": 1000
        }
      },
      "execution_count": 9,
      "outputs": [
        {
          "output_type": "stream",
          "name": "stdout",
          "text": [
            "total_reward =  13.0\n",
            "total_reward =  15.0\n",
            "total_reward =  14.0\n",
            "total_reward =  12.0\n",
            "total_reward =  12.0\n",
            "total_reward =  15.0\n",
            "total_reward =  13.0\n",
            "total_reward =  27.0\n",
            "total_reward =  27.0\n",
            "total_reward =  23.0\n",
            "total_reward =  12.0\n",
            "total_reward =  17.0\n",
            "total_reward =  22.0\n",
            "total_reward =  17.0\n",
            "total_reward =  14.0\n",
            "total_reward =  13.0\n",
            "total_reward =  16.0\n",
            "total_reward =  18.0\n",
            "total_reward =  10.0\n",
            "total_reward =  18.0\n",
            "total_reward =  20.0\n",
            "total_reward =  31.0\n",
            "total_reward =  41.0\n",
            "total_reward =  62.0\n",
            "total_reward =  33.0\n",
            "total_reward =  33.0\n",
            "total_reward =  16.0\n",
            "total_reward =  35.0\n",
            "total_reward =  55.0\n",
            "total_reward =  15.0\n",
            "total_reward =  13.0\n",
            "total_reward =  31.0\n",
            "total_reward =  8.0\n",
            "total_reward =  18.0\n",
            "total_reward =  59.0\n",
            "total_reward =  9.0\n",
            "total_reward =  20.0\n",
            "total_reward =  40.0\n",
            "total_reward =  11.0\n",
            "total_reward =  12.0\n",
            "total_reward =  11.0\n",
            "total_reward =  20.0\n",
            "total_reward =  11.0\n",
            "total_reward =  14.0\n",
            "total_reward =  13.0\n",
            "total_reward =  9.0\n",
            "total_reward =  26.0\n",
            "target net updated\n",
            "total_reward =  28.0\n",
            "total_reward =  13.0\n",
            "total_reward =  30.0\n",
            "total_reward =  25.0\n",
            "total_reward =  22.0\n",
            "total_reward =  21.0\n",
            "total_reward =  11.0\n",
            "total_reward =  13.0\n",
            "total_reward =  14.0\n",
            "total_reward =  18.0\n",
            "total_reward =  11.0\n",
            "total_reward =  77.0\n",
            "total_reward =  26.0\n",
            "total_reward =  11.0\n",
            "total_reward =  15.0\n",
            "total_reward =  14.0\n",
            "total_reward =  30.0\n",
            "total_reward =  13.0\n",
            "total_reward =  30.0\n",
            "total_reward =  19.0\n",
            "total_reward =  28.0\n",
            "total_reward =  20.0\n",
            "total_reward =  22.0\n",
            "total_reward =  26.0\n",
            "total_reward =  13.0\n",
            "total_reward =  16.0\n",
            "total_reward =  16.0\n",
            "total_reward =  22.0\n",
            "total_reward =  18.0\n",
            "total_reward =  15.0\n",
            "total_reward =  33.0\n",
            "total_reward =  34.0\n",
            "total_reward =  14.0\n",
            "total_reward =  13.0\n",
            "total_reward =  12.0\n"
          ]
        },
        {
          "output_type": "error",
          "ename": "KeyboardInterrupt",
          "evalue": "",
          "traceback": [
            "\u001b[0;31m---------------------------------------------------------------------------\u001b[0m",
            "\u001b[0;31mKeyboardInterrupt\u001b[0m                         Traceback (most recent call last)",
            "\u001b[0;32m<ipython-input-9-2da0ffaf5447>\u001b[0m in \u001b[0;36m<cell line: 1>\u001b[0;34m()\u001b[0m\n\u001b[0;32m----> 1\u001b[0;31m \u001b[0mtrain\u001b[0m\u001b[0;34m(\u001b[0m\u001b[0;34m)\u001b[0m\u001b[0;34m\u001b[0m\u001b[0;34m\u001b[0m\u001b[0m\n\u001b[0m",
            "\u001b[0;32m<ipython-input-8-3a7bd691dd71>\u001b[0m in \u001b[0;36mtrain\u001b[0;34m()\u001b[0m\n\u001b[1;32m     78\u001b[0m \u001b[0;34m\u001b[0m\u001b[0m\n\u001b[1;32m     79\u001b[0m             \u001b[0;31m# Backpropogate the loss to update the weights of the neural network\u001b[0m\u001b[0;34m\u001b[0m\u001b[0;34m\u001b[0m\u001b[0m\n\u001b[0;32m---> 80\u001b[0;31m             \u001b[0moptimizer\u001b[0m\u001b[0;34m.\u001b[0m\u001b[0mstep\u001b[0m\u001b[0;34m(\u001b[0m\u001b[0;34m)\u001b[0m\u001b[0;34m\u001b[0m\u001b[0;34m\u001b[0m\u001b[0m\n\u001b[0m\u001b[1;32m     81\u001b[0m \u001b[0;34m\u001b[0m\u001b[0m\n\u001b[1;32m     82\u001b[0m     \u001b[0mprint\u001b[0m\u001b[0;34m(\u001b[0m\u001b[0;34m\"Episode Count\"\u001b[0m\u001b[0;34m,\u001b[0m\u001b[0mepisode_count\u001b[0m\u001b[0;34m)\u001b[0m\u001b[0;34m\u001b[0m\u001b[0;34m\u001b[0m\u001b[0m\n",
            "\u001b[0;32m/usr/local/lib/python3.10/dist-packages/torch/optim/optimizer.py\u001b[0m in \u001b[0;36mwrapper\u001b[0;34m(*args, **kwargs)\u001b[0m\n\u001b[1;32m    383\u001b[0m                             )\n\u001b[1;32m    384\u001b[0m \u001b[0;34m\u001b[0m\u001b[0m\n\u001b[0;32m--> 385\u001b[0;31m                 \u001b[0mout\u001b[0m \u001b[0;34m=\u001b[0m \u001b[0mfunc\u001b[0m\u001b[0;34m(\u001b[0m\u001b[0;34m*\u001b[0m\u001b[0margs\u001b[0m\u001b[0;34m,\u001b[0m \u001b[0;34m**\u001b[0m\u001b[0mkwargs\u001b[0m\u001b[0;34m)\u001b[0m\u001b[0;34m\u001b[0m\u001b[0;34m\u001b[0m\u001b[0m\n\u001b[0m\u001b[1;32m    386\u001b[0m                 \u001b[0mself\u001b[0m\u001b[0;34m.\u001b[0m\u001b[0m_optimizer_step_code\u001b[0m\u001b[0;34m(\u001b[0m\u001b[0;34m)\u001b[0m\u001b[0;34m\u001b[0m\u001b[0;34m\u001b[0m\u001b[0m\n\u001b[1;32m    387\u001b[0m \u001b[0;34m\u001b[0m\u001b[0m\n",
            "\u001b[0;32m/usr/local/lib/python3.10/dist-packages/torch/optim/optimizer.py\u001b[0m in \u001b[0;36m_use_grad\u001b[0;34m(self, *args, **kwargs)\u001b[0m\n\u001b[1;32m     74\u001b[0m             \u001b[0mtorch\u001b[0m\u001b[0;34m.\u001b[0m\u001b[0mset_grad_enabled\u001b[0m\u001b[0;34m(\u001b[0m\u001b[0mself\u001b[0m\u001b[0;34m.\u001b[0m\u001b[0mdefaults\u001b[0m\u001b[0;34m[\u001b[0m\u001b[0;34m'differentiable'\u001b[0m\u001b[0;34m]\u001b[0m\u001b[0;34m)\u001b[0m\u001b[0;34m\u001b[0m\u001b[0;34m\u001b[0m\u001b[0m\n\u001b[1;32m     75\u001b[0m             \u001b[0mtorch\u001b[0m\u001b[0;34m.\u001b[0m\u001b[0m_dynamo\u001b[0m\u001b[0;34m.\u001b[0m\u001b[0mgraph_break\u001b[0m\u001b[0;34m(\u001b[0m\u001b[0;34m)\u001b[0m\u001b[0;34m\u001b[0m\u001b[0;34m\u001b[0m\u001b[0m\n\u001b[0;32m---> 76\u001b[0;31m             \u001b[0mret\u001b[0m \u001b[0;34m=\u001b[0m \u001b[0mfunc\u001b[0m\u001b[0;34m(\u001b[0m\u001b[0mself\u001b[0m\u001b[0;34m,\u001b[0m \u001b[0;34m*\u001b[0m\u001b[0margs\u001b[0m\u001b[0;34m,\u001b[0m \u001b[0;34m**\u001b[0m\u001b[0mkwargs\u001b[0m\u001b[0;34m)\u001b[0m\u001b[0;34m\u001b[0m\u001b[0;34m\u001b[0m\u001b[0m\n\u001b[0m\u001b[1;32m     77\u001b[0m         \u001b[0;32mfinally\u001b[0m\u001b[0;34m:\u001b[0m\u001b[0;34m\u001b[0m\u001b[0;34m\u001b[0m\u001b[0m\n\u001b[1;32m     78\u001b[0m             \u001b[0mtorch\u001b[0m\u001b[0;34m.\u001b[0m\u001b[0m_dynamo\u001b[0m\u001b[0;34m.\u001b[0m\u001b[0mgraph_break\u001b[0m\u001b[0;34m(\u001b[0m\u001b[0;34m)\u001b[0m\u001b[0;34m\u001b[0m\u001b[0;34m\u001b[0m\u001b[0m\n",
            "\u001b[0;32m/usr/local/lib/python3.10/dist-packages/torch/optim/adam.py\u001b[0m in \u001b[0;36mstep\u001b[0;34m(self, closure)\u001b[0m\n\u001b[1;32m    164\u001b[0m                 state_steps)\n\u001b[1;32m    165\u001b[0m \u001b[0;34m\u001b[0m\u001b[0m\n\u001b[0;32m--> 166\u001b[0;31m             adam(\n\u001b[0m\u001b[1;32m    167\u001b[0m                 \u001b[0mparams_with_grad\u001b[0m\u001b[0;34m,\u001b[0m\u001b[0;34m\u001b[0m\u001b[0;34m\u001b[0m\u001b[0m\n\u001b[1;32m    168\u001b[0m                 \u001b[0mgrads\u001b[0m\u001b[0;34m,\u001b[0m\u001b[0;34m\u001b[0m\u001b[0;34m\u001b[0m\u001b[0m\n",
            "\u001b[0;32m/usr/local/lib/python3.10/dist-packages/torch/optim/adam.py\u001b[0m in \u001b[0;36madam\u001b[0;34m(params, grads, exp_avgs, exp_avg_sqs, max_exp_avg_sqs, state_steps, foreach, capturable, differentiable, fused, grad_scale, found_inf, has_complex, amsgrad, beta1, beta2, lr, weight_decay, eps, maximize)\u001b[0m\n\u001b[1;32m    314\u001b[0m         \u001b[0mfunc\u001b[0m \u001b[0;34m=\u001b[0m \u001b[0m_single_tensor_adam\u001b[0m\u001b[0;34m\u001b[0m\u001b[0;34m\u001b[0m\u001b[0m\n\u001b[1;32m    315\u001b[0m \u001b[0;34m\u001b[0m\u001b[0m\n\u001b[0;32m--> 316\u001b[0;31m     func(params,\n\u001b[0m\u001b[1;32m    317\u001b[0m          \u001b[0mgrads\u001b[0m\u001b[0;34m,\u001b[0m\u001b[0;34m\u001b[0m\u001b[0;34m\u001b[0m\u001b[0m\n\u001b[1;32m    318\u001b[0m          \u001b[0mexp_avgs\u001b[0m\u001b[0;34m,\u001b[0m\u001b[0;34m\u001b[0m\u001b[0;34m\u001b[0m\u001b[0m\n",
            "\u001b[0;32m/usr/local/lib/python3.10/dist-packages/torch/optim/adam.py\u001b[0m in \u001b[0;36m_single_tensor_adam\u001b[0;34m(params, grads, exp_avgs, exp_avg_sqs, max_exp_avg_sqs, state_steps, grad_scale, found_inf, amsgrad, has_complex, beta1, beta2, lr, weight_decay, eps, maximize, capturable, differentiable)\u001b[0m\n\u001b[1;32m    377\u001b[0m         \u001b[0mstep_t\u001b[0m \u001b[0;34m+=\u001b[0m \u001b[0;36m1\u001b[0m\u001b[0;34m\u001b[0m\u001b[0;34m\u001b[0m\u001b[0m\n\u001b[1;32m    378\u001b[0m \u001b[0;34m\u001b[0m\u001b[0m\n\u001b[0;32m--> 379\u001b[0;31m         \u001b[0;32mif\u001b[0m \u001b[0mweight_decay\u001b[0m \u001b[0;34m!=\u001b[0m \u001b[0;36m0\u001b[0m\u001b[0;34m:\u001b[0m\u001b[0;34m\u001b[0m\u001b[0;34m\u001b[0m\u001b[0m\n\u001b[0m\u001b[1;32m    380\u001b[0m             \u001b[0mgrad\u001b[0m \u001b[0;34m=\u001b[0m \u001b[0mgrad\u001b[0m\u001b[0;34m.\u001b[0m\u001b[0madd\u001b[0m\u001b[0;34m(\u001b[0m\u001b[0mparam\u001b[0m\u001b[0;34m,\u001b[0m \u001b[0malpha\u001b[0m\u001b[0;34m=\u001b[0m\u001b[0mweight_decay\u001b[0m\u001b[0;34m)\u001b[0m\u001b[0;34m\u001b[0m\u001b[0;34m\u001b[0m\u001b[0m\n\u001b[1;32m    381\u001b[0m \u001b[0;34m\u001b[0m\u001b[0m\n",
            "\u001b[0;31mKeyboardInterrupt\u001b[0m: "
          ]
        }
      ]
    },
    {
      "cell_type": "markdown",
      "source": [
        "## Task 2: Demonstrate the effectiveness of the RL agent"
      ],
      "metadata": {
        "id": "-XtIQ0Rti1gm"
      }
    },
    {
      "cell_type": "markdown",
      "source": [
        "Running the 100 episodes as test data for our DQN Model and printing the average reward over the 100 episodes.\n",
        "\n",
        "### Steps taken:\n",
        "\n",
        "1. First we instantiate the DQN model and load with the weights that are obtained from training.\n",
        "\n",
        "\n",
        "2. We run 100 episodes, starting with a random starting observation and obtaining an action that yields the highest expected returns using the DQN.\n",
        "\n",
        "\n",
        "3. The next state is obtained after taking the action, and the reward is accumulated. Using the next state, we input in the DQN again until the episode end.\n",
        "\n",
        "\n",
        "4. The accumulated rewards for that episode is stored, until all 100 episodes are executed. The average is then calculated."
      ],
      "metadata": {
        "id": "XndSYH7wlvn7"
      }
    },
    {
      "cell_type": "code",
      "source": [
        "def test_model():\n",
        "\n",
        "    device = torch.device(\"cuda\" if torch.cuda.is_available() else \"cpu\")\n",
        "\n",
        "    model = DQN(env.observation_space, env.action_space, 128).to(device)\n",
        "\n",
        "    state_dict = torch.load('DQNwithTargetNet.pth') # Change path here to load model\n",
        "    model.load_state_dict(state_dict)\n",
        "    model.eval()\n",
        "\n",
        "    total_rewards = []\n",
        "\n",
        "    for episode in range(100):\n",
        "        obs = env.reset()\n",
        "        episode_reward = 0\n",
        "\n",
        "        while True: # unil the episodes reaches termination\n",
        "            state = wrapper(obs, device).unsqueeze(0)\n",
        "            action = model(state).argmax().item()  # Select action based on model's prediction\n",
        "            obs, reward, done, _ = env.step(action)\n",
        "            episode_reward += reward\n",
        "\n",
        "            if done:\n",
        "                break\n",
        "\n",
        "        total_rewards.append(episode_reward)\n",
        "        print(f\"Episode {episode + 1}: Total Reward = {episode_reward}\")\n",
        "\n",
        "    avg_reward = sum(total_rewards) / len(total_rewards)\n",
        "    print(f\"Average Reward over 100 episodes: {avg_reward}\")\n",
        "    return total_rewards\n",
        "\n",
        "total_rewards = test_model()"
      ],
      "metadata": {
        "colab": {
          "base_uri": "https://localhost:8080/"
        },
        "id": "pOiOp9OYlo5Y",
        "outputId": "51bfce59-8164-4490-95d6-6e38fe3038f1"
      },
      "execution_count": 10,
      "outputs": [
        {
          "output_type": "stream",
          "name": "stdout",
          "text": [
            "Episode 1: Total Reward = 243.0\n",
            "Episode 2: Total Reward = 225.0\n",
            "Episode 3: Total Reward = 248.0\n",
            "Episode 4: Total Reward = 245.0\n",
            "Episode 5: Total Reward = 227.0\n",
            "Episode 6: Total Reward = 226.0\n",
            "Episode 7: Total Reward = 227.0\n",
            "Episode 8: Total Reward = 226.0\n",
            "Episode 9: Total Reward = 243.0\n",
            "Episode 10: Total Reward = 263.0\n",
            "Episode 11: Total Reward = 235.0\n",
            "Episode 12: Total Reward = 261.0\n",
            "Episode 13: Total Reward = 198.0\n",
            "Episode 14: Total Reward = 203.0\n",
            "Episode 15: Total Reward = 219.0\n",
            "Episode 16: Total Reward = 222.0\n",
            "Episode 17: Total Reward = 294.0\n",
            "Episode 18: Total Reward = 210.0\n",
            "Episode 19: Total Reward = 245.0\n",
            "Episode 20: Total Reward = 253.0\n",
            "Episode 21: Total Reward = 208.0\n",
            "Episode 22: Total Reward = 281.0\n",
            "Episode 23: Total Reward = 219.0\n",
            "Episode 24: Total Reward = 263.0\n",
            "Episode 25: Total Reward = 248.0\n",
            "Episode 26: Total Reward = 259.0\n",
            "Episode 27: Total Reward = 217.0\n",
            "Episode 28: Total Reward = 220.0\n",
            "Episode 29: Total Reward = 234.0\n",
            "Episode 30: Total Reward = 297.0\n",
            "Episode 31: Total Reward = 243.0\n",
            "Episode 32: Total Reward = 333.0\n",
            "Episode 33: Total Reward = 247.0\n",
            "Episode 34: Total Reward = 226.0\n",
            "Episode 35: Total Reward = 279.0\n",
            "Episode 36: Total Reward = 247.0\n",
            "Episode 37: Total Reward = 258.0\n",
            "Episode 38: Total Reward = 221.0\n",
            "Episode 39: Total Reward = 267.0\n",
            "Episode 40: Total Reward = 266.0\n",
            "Episode 41: Total Reward = 261.0\n",
            "Episode 42: Total Reward = 265.0\n",
            "Episode 43: Total Reward = 227.0\n",
            "Episode 44: Total Reward = 243.0\n",
            "Episode 45: Total Reward = 219.0\n",
            "Episode 46: Total Reward = 259.0\n",
            "Episode 47: Total Reward = 242.0\n",
            "Episode 48: Total Reward = 239.0\n",
            "Episode 49: Total Reward = 249.0\n",
            "Episode 50: Total Reward = 256.0\n",
            "Episode 51: Total Reward = 205.0\n",
            "Episode 52: Total Reward = 219.0\n",
            "Episode 53: Total Reward = 233.0\n",
            "Episode 54: Total Reward = 223.0\n",
            "Episode 55: Total Reward = 271.0\n",
            "Episode 56: Total Reward = 232.0\n",
            "Episode 57: Total Reward = 198.0\n",
            "Episode 58: Total Reward = 213.0\n",
            "Episode 59: Total Reward = 238.0\n",
            "Episode 60: Total Reward = 279.0\n",
            "Episode 61: Total Reward = 269.0\n",
            "Episode 62: Total Reward = 246.0\n",
            "Episode 63: Total Reward = 244.0\n",
            "Episode 64: Total Reward = 227.0\n",
            "Episode 65: Total Reward = 294.0\n",
            "Episode 66: Total Reward = 190.0\n",
            "Episode 67: Total Reward = 216.0\n",
            "Episode 68: Total Reward = 263.0\n",
            "Episode 69: Total Reward = 226.0\n",
            "Episode 70: Total Reward = 258.0\n",
            "Episode 71: Total Reward = 241.0\n",
            "Episode 72: Total Reward = 252.0\n",
            "Episode 73: Total Reward = 239.0\n",
            "Episode 74: Total Reward = 276.0\n",
            "Episode 75: Total Reward = 240.0\n",
            "Episode 76: Total Reward = 258.0\n",
            "Episode 77: Total Reward = 245.0\n",
            "Episode 78: Total Reward = 210.0\n",
            "Episode 79: Total Reward = 239.0\n",
            "Episode 80: Total Reward = 249.0\n",
            "Episode 81: Total Reward = 274.0\n",
            "Episode 82: Total Reward = 248.0\n",
            "Episode 83: Total Reward = 269.0\n",
            "Episode 84: Total Reward = 241.0\n",
            "Episode 85: Total Reward = 263.0\n",
            "Episode 86: Total Reward = 305.0\n",
            "Episode 87: Total Reward = 214.0\n",
            "Episode 88: Total Reward = 245.0\n",
            "Episode 89: Total Reward = 240.0\n",
            "Episode 90: Total Reward = 211.0\n",
            "Episode 91: Total Reward = 242.0\n",
            "Episode 92: Total Reward = 234.0\n",
            "Episode 93: Total Reward = 224.0\n",
            "Episode 94: Total Reward = 274.0\n",
            "Episode 95: Total Reward = 251.0\n",
            "Episode 96: Total Reward = 270.0\n",
            "Episode 97: Total Reward = 219.0\n",
            "Episode 98: Total Reward = 277.0\n",
            "Episode 99: Total Reward = 259.0\n",
            "Episode 100: Total Reward = 271.0\n",
            "Average Reward over 100 episodes: 244.3\n"
          ]
        }
      ]
    },
    {
      "cell_type": "code",
      "source": [
        "plt.plot(total_rewards)\n",
        "plt.title('Cumulative reward for each episode')\n",
        "plt.ylabel('Cumulative reward')\n",
        "plt.xlabel('episode')\n",
        "plt.show()"
      ],
      "metadata": {
        "colab": {
          "base_uri": "https://localhost:8080/",
          "height": 472
        },
        "id": "y8vGhenllmid",
        "outputId": "2476f6a2-3955-42ab-f89b-346a41fa6721"
      },
      "execution_count": 11,
      "outputs": [
        {
          "output_type": "display_data",
          "data": {
            "text/plain": [
              "<Figure size 640x480 with 1 Axes>"
            ],
            "image/png": "[encoded data removed]"
          },
          "metadata": {}
        }
      ]
    },
    {
      "cell_type": "code",
      "source": [
        "print(\"Average cumulative reward:\", sum(total_rewards) / len(total_rewards))\n",
        "print(\"Is my agent good enough?\", sum(total_rewards) / len(total_rewards) > 195)"
      ],
      "metadata": {
        "colab": {
          "base_uri": "https://localhost:8080/"
        },
        "id": "sAuTjds2l4Wh",
        "outputId": "92f4b79e-684a-4243-f03e-679e674c7d3d"
      },
      "execution_count": 12,
      "outputs": [
        {
          "output_type": "stream",
          "name": "stdout",
          "text": [
            "Average cumulative reward: 244.3\n",
            "Is my agent good enough? True\n"
          ]
        }
      ]
    },
    {
      "cell_type": "markdown",
      "source": [
        "## Task 3: Render one episode played by the agent"
      ],
      "metadata": {
        "id": "Yg0DCT38lFA6"
      }
    },
    {
      "cell_type": "markdown",
      "source": [
        "### Steps taken:\n",
        "\n",
        "Similar to Task 2, but instead a single epsiode is recorded instead. Using `RecordVideo`, the environment is simulated with one episode and recorded."
      ],
      "metadata": {
        "id": "vx1awMr9lc_w"
      }
    },
    {
      "cell_type": "code",
      "source": [
        "env = RecordVideo(gym.make(\"CartPole-v1\"), \"./video\")\n",
        "observation = env.reset()\n",
        "state = wrapper(observation, device='cpu').unsqueeze(0)\n",
        "\n",
        "model = DQN(env.observation_space, env.action_space, 128).to(device='cpu')\n",
        "\n",
        "state_dict = torch.load('DQNwithTargetNet.pth') # loads the weights of the model\n",
        "model.load_state_dict(state_dict)\n",
        "model.eval()\n",
        "\n",
        "while True:\n",
        "    env.render()\n",
        "    action = model(state).argmax().item()\n",
        "    observation, reward, done, info = env.step(action)\n",
        "    state = wrapper(observation, device='cpu').unsqueeze(0) # obtain the next state after executing action that was recommended\n",
        "    if done:\n",
        "      break;\n",
        "\n",
        "print(\"terminate\")\n",
        "env.close()\n",
        "show_video()"
      ],
      "metadata": {
        "colab": {
          "base_uri": "https://localhost:8080/",
          "height": 494
        },
        "id": "LYyavfbIa47D",
        "outputId": "c5777e95-1180-41f4-f326-c279fd4276c7"
      },
      "execution_count": 13,
      "outputs": [
        {
          "output_type": "stream",
          "name": "stderr",
          "text": [
            "/usr/local/lib/python3.10/dist-packages/gym/utils/passive_env_checker.py:241: DeprecationWarning: `np.bool8` is a deprecated alias for `np.bool_`.  (Deprecated NumPy 1.24)\n",
            "  if not isinstance(terminated, (bool, np.bool8)):\n"
          ]
        },
        {
          "output_type": "stream",
          "name": "stdout",
          "text": [
            "terminate\n"
          ]
        },
        {
          "output_type": "display_data",
          "data": {
            "text/plain": [
              "<IPython.core.display.HTML object>"
            ],
            "text/html": [
              "<video alt=\"test\" autoplay\n",
              "                loop controls style=\"height: 400px;\">\n",
              "                <source src=\"data:video/mp4;base64,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\" type=\"video/mp4\" />\n",
              "             </video>"
            ]
          },
          "metadata": {}
        }
      ]
    },
    {
      "cell_type": "markdown",
      "source": [
        "### References:\n",
        "1. To build our DQN Model we will be using the PyTorch library and we referenced code from\n",
        "<br>https://pytorch.org/tutorials/intermediate/reinforcement_q_learning.html <br>https://stackoverflow.com/questions/75179713/problem-getting-dqn-to-learn-cartpole-v1-pytorch\n",
        "\n",
        "2. For our research on DQN and Target Network we referenced\n",
        "<br>https://towardsdatascience.com/reinforcement-learning-explained-visually-part-5-deep-q-networks-step-by-step-5a5317197f4b\n",
        "<br>https://pytorch.org/tutorials/intermediate/reinforcement_q_learning.html"
      ],
      "metadata": {
        "id": "QpZQhEICFsFE"
      }
    }
  ]
}