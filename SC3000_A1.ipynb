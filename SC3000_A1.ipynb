{
  "nbformat": 4,
  "nbformat_minor": 0,
  "metadata": {
    "colab": {
      "provenance": [],
      "include_colab_link": true
    },
    "kernelspec": {
      "name": "python3",
      "display_name": "Python 3"
    },
    "language_info": {
      "name": "python"
    }
  },
  "cells": [
    {
      "cell_type": "markdown",
      "metadata": {
        "id": "view-in-github",
        "colab_type": "text"
      },
      "source": [
        "<a href=\"https://colab.research.google.com/github/tshjustin/A1_cartpole-v1/blob/main/SC3000_A1.ipynb\" target=\"_parent\"><img src=\"https://colab.research.google.com/assets/colab-badge.svg\" alt=\"Open In Colab\"/></a>"
      ]
    },
    {
      "cell_type": "markdown",
      "source": [
        "## SC3000 Assignment 1:\n",
        "\n",
        "Justin Tan : U2221024B\n",
        "\n",
        "Jared Ng: U2221802L\n",
        "\n",
        "Amit: U2220363B"
      ],
      "metadata": {
        "id": "ZauhjPSfX7pI"
      }
    },
    {
      "cell_type": "markdown",
      "source": [
        "## Installing dependencies:"
      ],
      "metadata": {
        "id": "UBiYOoesYMvr"
      }
    },
    {
      "cell_type": "code",
      "execution_count": null,
      "metadata": {
        "colab": {
          "base_uri": "https://localhost:8080/",
          "height": 547
        },
        "id": "PbgnVwZmX5uW",
        "outputId": "a95b8573-d623-48a1-94b0-b769e5def766"
      },
      "outputs": [
        {
          "output_type": "stream",
          "name": "stdout",
          "text": [
            "Requirement already satisfied: gym[classic_control] in /usr/local/lib/python3.10/dist-packages (0.25.2)\n",
            "Requirement already satisfied: numpy>=1.18.0 in /usr/local/lib/python3.10/dist-packages (from gym[classic_control]) (1.25.2)\n",
            "Requirement already satisfied: cloudpickle>=1.2.0 in /usr/local/lib/python3.10/dist-packages (from gym[classic_control]) (2.2.1)\n",
            "Requirement already satisfied: gym-notices>=0.0.4 in /usr/local/lib/python3.10/dist-packages (from gym[classic_control]) (0.0.8)\n",
            "Collecting pygame==2.1.0 (from gym[classic_control])\n",
            "  Downloading pygame-2.1.0-cp310-cp310-manylinux_2_17_x86_64.manylinux2014_x86_64.whl (18.3 MB)\n",
            "\u001b[2K     \u001b[90m━━━━━━━━━━━━━━━━━━━━━━━━━━━━━━━━━━━━━━━━\u001b[0m \u001b[32m18.3/18.3 MB\u001b[0m \u001b[31m40.5 MB/s\u001b[0m eta \u001b[36m0:00:00\u001b[0m\n",
            "\u001b[?25hInstalling collected packages: pygame\n",
            "  Attempting uninstall: pygame\n",
            "    Found existing installation: pygame 2.5.2\n",
            "    Uninstalling pygame-2.5.2:\n",
            "      Successfully uninstalled pygame-2.5.2\n",
            "Successfully installed pygame-2.1.0\n",
            "Requirement already satisfied: setuptools in /usr/local/lib/python3.10/dist-packages (67.7.2)\n",
            "Collecting setuptools\n",
            "  Downloading setuptools-69.2.0-py3-none-any.whl (821 kB)\n",
            "\u001b[2K     \u001b[90m━━━━━━━━━━━━━━━━━━━━━━━━━━━━━━━━━━━━━━━━\u001b[0m \u001b[32m821.5/821.5 kB\u001b[0m \u001b[31m11.1 MB/s\u001b[0m eta \u001b[36m0:00:00\u001b[0m\n",
            "\u001b[?25hInstalling collected packages: setuptools\n",
            "  Attempting uninstall: setuptools\n",
            "    Found existing installation: setuptools 67.7.2\n",
            "    Uninstalling setuptools-67.7.2:\n",
            "      Successfully uninstalled setuptools-67.7.2\n",
            "\u001b[31mERROR: pip's dependency resolver does not currently take into account all the packages that are installed. This behaviour is the source of the following dependency conflicts.\n",
            "ipython 7.34.0 requires jedi>=0.16, which is not installed.\u001b[0m\u001b[31m\n",
            "\u001b[0mSuccessfully installed setuptools-69.2.0\n"
          ]
        },
        {
          "output_type": "display_data",
          "data": {
            "application/vnd.colab-display-data+json": {
              "pip_warning": {
                "packages": [
                  "_distutils_hack",
                  "pkg_resources",
                  "setuptools"
                ]
              },
              "id": "d215edca1215453fa839cf78d6b532d3"
            }
          },
          "metadata": {}
        }
      ],
      "source": [
        "!apt-get install -y xvfb python-opengl > /dev/null 2>&1\n",
        "!pip install gym pyvirtualdisplay > /dev/null 2>&1\n",
        "!pip install gym pyvirtualdisplay > /dev/null 2>&1\n",
        "!apt-get install -y xvfb python-opengl ffmpeg > /dev/null 2>&1\n",
        "!pip install gym[classic_control]\n",
        "!apt-get update > /dev/null 2>&1\n",
        "!apt-get install cmake > /dev/null 2>&1\n",
        "!pip install --upgrade setuptools 2>&1\n",
        "!pip install ez_setup > /dev/null 2>&1"
      ]
    },
    {
      "cell_type": "markdown",
      "source": [
        "## Importing dependencies and define helper functions"
      ],
      "metadata": {
        "id": "RwKbYeTgbaTA"
      }
    },
    {
      "cell_type": "code",
      "source": [
        "import gym\n",
        "from gym import logger as gymlogger\n",
        "from gym.wrappers import RecordVideo\n",
        "gymlogger.set_level(40) #error only\n",
        "import tensorflow as tf\n",
        "import numpy as np\n",
        "import random\n",
        "import matplotlib\n",
        "import matplotlib.pyplot as plt\n",
        "%matplotlib inline\n",
        "import math\n",
        "import glob\n",
        "import io\n",
        "import base64\n",
        "from IPython.display import HTML\n",
        "from IPython import display as ipythondisplay\n",
        "\n",
        "def show_video():\n",
        "  mp4list = glob.glob('video/*.mp4')\n",
        "  if len(mp4list) > 0:\n",
        "    mp4 = mp4list[0]\n",
        "    video = io.open(mp4, 'r+b').read()\n",
        "    encoded = base64.b64encode(video)\n",
        "    ipythondisplay.display(HTML(data='''<video alt=\"test\" autoplay\n",
        "                loop controls style=\"height: 400px;\">\n",
        "                <source src=\"data:video/mp4;base64,{0}\" type=\"video/mp4\" />\n",
        "             </video>'''.format(encoded.decode('ascii'))))\n",
        "  else:\n",
        "    print(\"Could not find video\")"
      ],
      "metadata": {
        "id": "j6KpgCLGYWmj"
      },
      "execution_count": 1,
      "outputs": []
    },
    {
      "cell_type": "markdown",
      "source": [
        "## Firstly, we define the Cartpole problem and examine the format of `action space`, `observation space`"
      ],
      "metadata": {
        "id": "ehbqP9CXbmo7"
      }
    },
    {
      "cell_type": "code",
      "source": [
        "env = gym.make(\"CartPole-v1\")\n",
        "print(env.action_space) # Possible actions in the env\n",
        "print(env.observation_space)\n",
        "\n",
        "print(\"Number of features of the environment: \", env.observation_space.shape[0])"
      ],
      "metadata": {
        "id": "Go12dH4qbwBy",
        "outputId": "1767ebf4-8e65-48ee-c348-b9c7243e2b9a",
        "colab": {
          "base_uri": "https://localhost:8080/"
        }
      },
      "execution_count": 2,
      "outputs": [
        {
          "output_type": "stream",
          "name": "stdout",
          "text": [
            "Discrete(2)\n",
            "Box([-4.8000002e+00 -3.4028235e+38 -4.1887903e-01 -3.4028235e+38], [4.8000002e+00 3.4028235e+38 4.1887903e-01 3.4028235e+38], (4,), float32)\n",
            "Number of features of the environment:  4\n"
          ]
        },
        {
          "output_type": "stream",
          "name": "stderr",
          "text": [
            "/usr/local/lib/python3.10/dist-packages/ipykernel/ipkernel.py:283: DeprecationWarning: `should_run_async` will not call `transform_cell` automatically in the future. Please pass the result to `transformed_cell` argument and any exception that happen during thetransform in `preprocessing_exc_tuple` in IPython 7.17 and above.\n",
            "  and should_run_async(code)\n"
          ]
        }
      ]
    },
    {
      "cell_type": "markdown",
      "source": [
        "1. Action Space: Discrete(2) means that there are two valid discrete actions: 0 & 1.\n",
        "\n",
        "\n",
        "2. Observation Space: In the format: `[pos,velocity,angle,velocity]`. The first two arrays define the min and max values of the 4 observed values, corresponding to cart position, velocity and pole angle, angular velocity.\n",
        "\n",
        "Now we explore performing an action in the environement and unpacking the values we obtain from a given action. This allows us to extract the features that we require when formulating the problem."
      ],
      "metadata": {
        "id": "9XZ9g3xrcAXE"
      }
    },
    {
      "cell_type": "code",
      "source": [
        "observation = env.reset()\n",
        "print(\"Initial observations:\", observation) # initial state values\n",
        "\n",
        "observation, reward, done, info = env.step(0) # executes an action in the env\n",
        "print(\"New observations after choosing action 0:\", observation)\n",
        "print(\"Reward for this step:\", reward)\n",
        "print(\"Is this round done?\", done) # Done depends when one of the 3 conditions of termiantion are met"
      ],
      "metadata": {
        "colab": {
          "base_uri": "https://localhost:8080/"
        },
        "id": "VMr6qAqxdOsm",
        "outputId": "896e2a6e-3bc4-4920-b643-589601f8bc90"
      },
      "execution_count": null,
      "outputs": [
        {
          "output_type": "stream",
          "name": "stdout",
          "text": [
            "Initial observations: [-0.03133562 -0.00883536  0.04342422 -0.00759799]\n",
            "New observations after choosing action 0: [-0.03151233 -0.20455231  0.04327226  0.2984634 ]\n",
            "Reward for this step: 1.0\n",
            "Is this round done? False\n"
          ]
        }
      ]
    },
    {
      "cell_type": "markdown",
      "source": [
        "## Task 1:\n",
        "\n",
        "### Algorithm used\n",
        "We used Deep Q networks to train the Agent due to the many possible position (States) of the agent. Although there are only 2 actions, the agent state represented as `[pos,velocity,angle,velocity]` have infinite states, thus using a Q table to store all the Q values would be computationally expensive.\n",
        "\n",
        "Rather than keeping track of the Q value, we used DQN to obtain a function that estimate for the Q value, depending on the State of the agent.\n",
        "\n",
        "\n",
        "### Pseudocode\n",
        "\n",
        "        Initialize the Replay Memory\n",
        "\n",
        "        Set a maximum size for the memory to store experiences.\n",
        "\n",
        "        Initialize the Q-Network and Target Network with Random Weights\n",
        "\n",
        "        For Each Episode:\n",
        "          Initialize the environment and get the initial state\n",
        "              For each time step or until the episode ends:\n",
        "                  Use an epsilon-greedy policy for action selection:\n",
        "                      With probability epsilon, select a random action;\n",
        "                      Otherwise, choose the action with the highest Q-value as predicted by the Q-Network.\n",
        "                  Execute the selected action in the environment.\n",
        "                  Observe the next state and reward from the environment.\n",
        "                  Store the experience (current state, action, reward, next state) in the Replay Memory.\n",
        "                  Sample a random mini-batch of experiences from the Replay Memory.\n",
        "                  For each experience in the mini-batch:\n",
        "                      Calculate the target Q-value:\n",
        "                          For non-terminal states: Target = reward + (discount rate * maximum Q-value of next state as predicted by the Target Network)\n",
        "                          For terminal states: Target = reward\n",
        "                      Update the Q-Network by minimizing the loss between its predicted Q-values and the calculated target Q-values.\n",
        "                      Every fixed number of steps, update the Target Network with the weights of the Q-Network.\n",
        "\n",
        "The primary update rule during training is using the temporal difference.\n",
        "1. `Q-Network Prediction`: For a given state-action pair $Q(s,a)$, the Q-Network provides an estimate for it.\n",
        "\n",
        "2. `Target-Network Prediction`: The target network provides a stable target for the next state. For the next state $s′$ resulting from taking action $a$, the Target Network is used to estimate the maximum future reward.\n",
        "This is represented as $max_aQ(s′,a′)$\n",
        "\n",
        "3. `Temporal Difference Target (TD Target)`: The TD Target is the sum of the immediate reward $r$ received after taking action $a$ in state $s$ plus the discounted maximum future reward predicted by the Target Network.\n",
        "$TD = r + \\gamma(max_aQ(s′,a′))$\n",
        "\n",
        "4. The error is calculated as:  $r + \\gamma(max_aQ(s′,a′)) - Q(s,a)$"
      ],
      "metadata": {
        "id": "2oIzK9SzhlWN"
      }
    },
    {
      "cell_type": "markdown",
      "source": [
        "## Key Objects\n",
        "\n",
        "#### 1 Experience Replay\n",
        "\n",
        " This stores the agent's experiences at each time step, encapsulated in a tuple `(state, action, reward, next_state, done)`\n",
        "\n",
        " Methods would allow for sampling and storing of agent's experience during training.\n",
        "\n",
        "#### 2 DQN Model\n",
        "Defines the neural network that approximates the Q-function, mapping state-action pairs to expected rewards. The architecture consists of fully connected layers, with ReLU activation functions for non-linearity between layers.\n",
        "\n",
        "Parameters:\n",
        "\n",
        "`n_observations`: The size of the observation space, defining the input layer size.\n",
        "\n",
        "`n_actions`: The size of the action space, defining the output layer size.\n",
        "\n",
        "`n_layers`: The size of the hidden layers.\n"
      ],
      "metadata": {
        "id": "9eX_MeI2JTOr"
      }
    },
    {
      "cell_type": "markdown",
      "source": [
        "## Expected Inputs and Outputs for each object\n",
        "\n",
        "### Network Model:\n",
        "\n",
        "`Input Layer`: Consists of 4 neurons, each corresponding to one of the state's features (cart position, cart velocity, pole angle, pole velocity at the tip).\n",
        "\n",
        "\n",
        "`Output Layer`: Consists of 2 neurons, each representing the Q-value for one of the possible actions (move left, move right).\n",
        "\n",
        "### Experience Batch Processing\n",
        "During training, batches of experience are passed into the model to break up sequential dependencies in episodes.\n",
        "\n",
        "`Input Format`: A batch of experiences is represented as a 2D array with the shape [Batch Size, Number of Observations] => [[0.1, 0.2, 0.3, 0.4], [0.5, 0.6, 0.7, 0.8], ...]\n",
        "\n",
        "`Output Format`: For each observation in the batch, the network outputs a pair of Q-values corresponding to the actions 'move left' and 'move right': [[Q-value(action1), Q-value(action2)], [Q-value(action1), Q-value(action2)], ...].\n",
        "\n",
        "\n",
        "\n",
        "\n",
        "\n"
      ],
      "metadata": {
        "id": "Cc6_e5c_huiq"
      }
    },
    {
      "cell_type": "code",
      "source": [
        "import torch\n",
        "from torch import nn\n",
        "from torch.nn import functional as F\n",
        "from torch import optim\n",
        "import random\n",
        "from collections import deque\n",
        "\n",
        "class Memory(object):\n",
        "    def __init__(self, maxlen):\n",
        "        self.memory = deque(maxlen=maxlen) # sets the maximum number of experiences - Oldeset entries removed while newest are placed at the end of the queue\n",
        "\n",
        "    def store(self, experience):\n",
        "        self.memory.append(experience) # adds an experience <state, action, reward, new state, done>\n",
        "\n",
        "    def sample(self, n_samples):\n",
        "        return zip(*random.sample(self.memory, n_samples)) # takes a random sample & transpose from [(state1, action1, reward1, next_state1, done1), (state2, action2, reward2, next_state2, done2) ...] -> (state1, state2), (action1, action2), (reward1, reward2), (next_state1, next_state2), (done1, done2)\n",
        "\n",
        "    def __len__(self):\n",
        "        return len(self.memory) # current size of memory buffer\n",
        "\n",
        "\n",
        "class DQN(nn.Module):\n",
        "    def __init__(self, n_observations, n_actions, n_layers):\n",
        "        super(DQN, self).__init__()\n",
        "\n",
        "        self.feature_extractor = env.observation_space.shape[0] # retrieve the number of features - This number of features corresponds to the number of input neurons of the model\n",
        "\n",
        "        # Neural network\n",
        "        self.net = nn.Sequential(\n",
        "            nn.Linear(self.feature_extractor, n_layers),\n",
        "            nn.ReLU(),\n",
        "            nn.Linear(n_layers, n_layers),\n",
        "            nn.ReLU(),\n",
        "            nn.Linear(n_layers, n_actions.n),\n",
        "        )\n",
        "\n",
        "    def forward(self, obs):\n",
        "        '''\n",
        "        params:\n",
        "        obs: observation / state of environemnt that is to be evaluated\n",
        "\n",
        "        return:\n",
        "        set of q values for the input state.\n",
        "        '''\n",
        "        return self.net(obs)\n",
        "\n",
        "def wrapper(arr, device, dtype=torch.float, reshape=False):\n",
        "    '''\n",
        "    Takes the array and converts it into a tensor & typecasted - Since the neural network expects an input in the form of a tensor\n",
        "    '''\n",
        "    output = torch.from_numpy(np.array(arr)).type(dtype).to(device)\n",
        "    if reshape: # in the case for neural networks that require 2d inputs\n",
        "        output = output.reshape(-1, 1)\n",
        "\n",
        "    return output\n",
        "\n",
        "def epsilon_greedy(start, end, n_steps, current_iteration):\n",
        "    '''\n",
        "    For early exploration and exploitation later on\n",
        "\n",
        "    Decays as iteration approaches the number of steps we defined\n",
        "    '''\n",
        "    decay_rate = (start - end) / n_steps\n",
        "    current_epsilon = start - (decay_rate * current_iteration)\n",
        "    epsilon = max(current_epsilon, end) # ensure that the decay rate dont drop below threshold\n",
        "\n",
        "    return epsilon"
      ],
      "metadata": {
        "id": "BmTOuHo3Feew"
      },
      "execution_count": 4,
      "outputs": []
    },
    {
      "cell_type": "code",
      "source": [
        "def train() -> int:\n",
        "    device = torch.device(\"cuda\" if torch.cuda.is_available() else \"cpu\")\n",
        "\n",
        "    model = DQN(env.observation_space, env.action_space, 128).to(device)\n",
        "    target = DQN(env.observation_space, env.action_space, 128).to(device)\n",
        "    TARGET_UPDATE_FREQ = 1000 # update\n",
        "\n",
        "    optimizer = optim.Adam(model.parameters(), lr=.0001)\n",
        "    loss_fn = nn.MSELoss()\n",
        "    memory = Memory(15_000)\n",
        "\n",
        "    episode_count = 0\n",
        "\n",
        "    obs = env.reset()\n",
        "    total_reward = 0\n",
        "\n",
        "    for iteration in range(150_000):\n",
        "\n",
        "        # generate experiences first using epsilon greedy\n",
        "\n",
        "        if np.random.random() <= epsilon_greedy(1.0, .01, 15_000, iteration): # choose some random number in [0,1). If lower than epsilon, then take some ranom action\n",
        "            action = env.action_space.sample() # choose either 0 / 1\n",
        "\n",
        "        else: # takes the action that gives the max returns\n",
        "            state = wrapper(obs, device).unsqueeze(0) # obtain the current state of the iteration and converts it into a tensor - unsqueeze(0) adds another dimenson at index=0 - [a,b,c,d] => [[a,b,c,d]], since for single state, the batch size = 1 and we need the extra dimention to indicate that the size = 1.\n",
        "            action  = model(state).argmax().item() # feeds state inside the model, and obtain the index of the q-value that is the max in the form of a tensor, .item() to convert it to an index which is our action.\n",
        "\n",
        "        next_state, reward, done, info = env.step(action) # observations after take the action\n",
        "        total_reward += reward\n",
        "\n",
        "        if done: # check for termination\n",
        "            next_state = np.zeros(env.observation_space.shape) # observation state all 0s if termination - prevents None Error\n",
        "\n",
        "        memory.store([obs, action, reward, int(done), next_state]) # stores the observation of the future state - Becomes experience\n",
        "\n",
        "        obs = next_state\n",
        "\n",
        "        if done:\n",
        "            print(\"total_reward = \", total_reward)\n",
        "            obs = env.reset()\n",
        "            total_reward = 0\n",
        "            episode_count += 1\n",
        "\n",
        "\n",
        "        # Train if enough experiences\n",
        "        if len(memory) > 500:\n",
        "            model.train()\n",
        "            states, actions, rewards, dones, next_states = memory.sample(128) # takes a batch of 128 experiences & seperate all the states, actions ...\n",
        "\n",
        "            # prepare inputs\n",
        "            states = wrapper(states, device)\n",
        "            actions = wrapper(actions, device, torch.int64, reshape=True)\n",
        "            next_states = wrapper(next_states, device)\n",
        "            rewards = wrapper(rewards, device, reshape=True)\n",
        "            dones = wrapper(dones, device, reshape=True)\n",
        "\n",
        "            qs = model(states)   # qs is a tensor of q values = [[x1,y1], [x2,y2]....] - With each tensor being Q value for taking action 0/1 in each state\n",
        "\n",
        "            qs = torch.gather(qs, dim=1, index=actions) # we dont want all the Q values, rather the Q values that are associated with the values that we have already taken in our experience\n",
        "            # Eventually, we get qs = [[q1],[q2]..] => predicted Q value for the actual action that we have taken\n",
        "\n",
        "            # Compute target q-values using future state Q value\n",
        "            with torch.no_grad():\n",
        "                next_qs, _ = target(next_states).max(dim=1) # find Q of the fuuture state  - Using the target network\n",
        "\n",
        "                next_qs = next_qs.reshape(-1, 1) # Reshape such that [0.5, 0.7, 0.6, 0.4] => [[0.5], [0.7], [0.6], [0.4]] => (-1 = adjust the number of rows as needed based on the number of inputs, 1 = 1 column)\n",
        "\n",
        "            target_qs = rewards + .9 * (1 - dones) * next_qs # Q = Q(s`,a`) r+γmax(s`,a`)\n",
        "\n",
        "            if iteration % TARGET_UPDATE_FREQ == 0: # Updates the target network with the Q networks\n",
        "              target.load_state_dict(model.state_dict())\n",
        "              print(\"target net updated\")\n",
        "\n",
        "            # Compute loss\n",
        "            loss = loss_fn(qs, target_qs)\n",
        "            optimizer.zero_grad()\n",
        "            loss.backward()\n",
        "\n",
        "            # Backpropogate the loss to update the weights of the neural network\n",
        "            optimizer.step()\n",
        "\n",
        "    print(\"Episode Count\",episode_count)\n",
        "    torch.save(model.state_dict(), 'checkpoint2.pth')\n"
      ],
      "metadata": {
        "id": "UGhuFAMihPZs"
      },
      "execution_count": 5,
      "outputs": []
    },
    {
      "cell_type": "code",
      "source": [
        "train()"
      ],
      "metadata": {
        "id": "3CoELwEFh6Sd",
        "outputId": "44248ea7-f2d8-4a32-bf89-e0dc7b7bb59f",
        "colab": {
          "base_uri": "https://localhost:8080/",
          "height": 1000
        }
      },
      "execution_count": 6,
      "outputs": [
        {
          "output_type": "stream",
          "name": "stderr",
          "text": [
            "/usr/local/lib/python3.10/dist-packages/gym/utils/passive_env_checker.py:241: DeprecationWarning: `np.bool8` is a deprecated alias for `np.bool_`.  (Deprecated NumPy 1.24)\n",
            "  if not isinstance(terminated, (bool, np.bool8)):\n"
          ]
        },
        {
          "output_type": "stream",
          "name": "stdout",
          "text": [
            "total_reward =  40.0\n",
            "total_reward =  15.0\n",
            "total_reward =  15.0\n",
            "total_reward =  11.0\n",
            "total_reward =  22.0\n",
            "total_reward =  26.0\n",
            "total_reward =  21.0\n",
            "total_reward =  15.0\n",
            "total_reward =  15.0\n",
            "total_reward =  10.0\n",
            "total_reward =  19.0\n",
            "total_reward =  25.0\n",
            "total_reward =  13.0\n",
            "total_reward =  12.0\n",
            "total_reward =  11.0\n",
            "total_reward =  17.0\n",
            "total_reward =  13.0\n",
            "total_reward =  12.0\n",
            "total_reward =  26.0\n",
            "total_reward =  18.0\n",
            "total_reward =  17.0\n",
            "total_reward =  15.0\n",
            "total_reward =  38.0\n",
            "total_reward =  29.0\n",
            "total_reward =  33.0\n",
            "total_reward =  16.0\n",
            "total_reward =  13.0\n",
            "total_reward =  12.0\n",
            "total_reward =  16.0\n",
            "total_reward =  32.0\n",
            "total_reward =  20.0\n",
            "total_reward =  34.0\n",
            "total_reward =  16.0\n",
            "total_reward =  23.0\n",
            "total_reward =  13.0\n",
            "total_reward =  31.0\n",
            "total_reward =  19.0\n",
            "total_reward =  26.0\n",
            "total_reward =  13.0\n",
            "total_reward =  22.0\n",
            "total_reward =  41.0\n",
            "total_reward =  21.0\n",
            "total_reward =  11.0\n",
            "total_reward =  19.0\n",
            "total_reward =  52.0\n",
            "total_reward =  28.0\n",
            "total_reward =  18.0\n",
            "total_reward =  16.0\n",
            "target net updated\n",
            "total_reward =  14.0\n",
            "total_reward =  12.0\n",
            "total_reward =  34.0\n",
            "total_reward =  16.0\n",
            "total_reward =  17.0\n",
            "total_reward =  16.0\n",
            "total_reward =  10.0\n",
            "total_reward =  24.0\n",
            "total_reward =  45.0\n",
            "total_reward =  14.0\n",
            "total_reward =  13.0\n",
            "total_reward =  20.0\n",
            "total_reward =  13.0\n",
            "total_reward =  17.0\n",
            "total_reward =  27.0\n",
            "total_reward =  17.0\n",
            "total_reward =  15.0\n",
            "total_reward =  17.0\n",
            "total_reward =  9.0\n",
            "total_reward =  10.0\n",
            "total_reward =  16.0\n",
            "total_reward =  24.0\n",
            "total_reward =  22.0\n",
            "total_reward =  12.0\n",
            "total_reward =  17.0\n",
            "total_reward =  19.0\n",
            "total_reward =  73.0\n",
            "total_reward =  17.0\n",
            "total_reward =  14.0\n",
            "total_reward =  22.0\n",
            "total_reward =  31.0\n",
            "total_reward =  27.0\n",
            "total_reward =  21.0\n",
            "total_reward =  10.0\n",
            "total_reward =  9.0\n",
            "total_reward =  17.0\n",
            "total_reward =  9.0\n",
            "total_reward =  19.0\n",
            "total_reward =  16.0\n",
            "total_reward =  28.0\n",
            "total_reward =  20.0\n",
            "total_reward =  13.0\n",
            "total_reward =  15.0\n",
            "total_reward =  15.0\n",
            "total_reward =  13.0\n",
            "total_reward =  18.0\n",
            "total_reward =  11.0\n",
            "total_reward =  12.0\n",
            "total_reward =  26.0\n",
            "total_reward =  10.0\n",
            "total_reward =  14.0\n",
            "total_reward =  14.0\n",
            "total_reward =  25.0\n",
            "target net updated\n",
            "total_reward =  48.0\n",
            "total_reward =  10.0\n",
            "total_reward =  24.0\n",
            "total_reward =  54.0\n",
            "total_reward =  24.0\n",
            "total_reward =  26.0\n",
            "total_reward =  22.0\n",
            "total_reward =  69.0\n",
            "total_reward =  23.0\n",
            "total_reward =  15.0\n",
            "total_reward =  74.0\n",
            "total_reward =  15.0\n",
            "total_reward =  11.0\n",
            "total_reward =  15.0\n",
            "total_reward =  18.0\n",
            "total_reward =  14.0\n",
            "total_reward =  14.0\n",
            "total_reward =  14.0\n",
            "total_reward =  51.0\n",
            "total_reward =  12.0\n",
            "total_reward =  16.0\n",
            "total_reward =  18.0\n",
            "total_reward =  42.0\n",
            "total_reward =  14.0\n",
            "total_reward =  12.0\n",
            "total_reward =  14.0\n",
            "total_reward =  12.0\n"
          ]
        },
        {
          "output_type": "error",
          "ename": "KeyboardInterrupt",
          "evalue": "",
          "traceback": [
            "\u001b[0;31m---------------------------------------------------------------------------\u001b[0m",
            "\u001b[0;31mKeyboardInterrupt\u001b[0m                         Traceback (most recent call last)",
            "\u001b[0;32m<ipython-input-6-2da0ffaf5447>\u001b[0m in \u001b[0;36m<cell line: 1>\u001b[0;34m()\u001b[0m\n\u001b[0;32m----> 1\u001b[0;31m \u001b[0mtrain\u001b[0m\u001b[0;34m(\u001b[0m\u001b[0;34m)\u001b[0m\u001b[0;34m\u001b[0m\u001b[0;34m\u001b[0m\u001b[0m\n\u001b[0m",
            "\u001b[0;32m<ipython-input-5-5231e2d4710f>\u001b[0m in \u001b[0;36mtrain\u001b[0;34m()\u001b[0m\n\u001b[1;32m     73\u001b[0m \u001b[0;34m\u001b[0m\u001b[0m\n\u001b[1;32m     74\u001b[0m             \u001b[0;31m# Compute loss\u001b[0m\u001b[0;34m\u001b[0m\u001b[0;34m\u001b[0m\u001b[0m\n\u001b[0;32m---> 75\u001b[0;31m             \u001b[0mloss\u001b[0m \u001b[0;34m=\u001b[0m \u001b[0mloss_fn\u001b[0m\u001b[0;34m(\u001b[0m\u001b[0mqs\u001b[0m\u001b[0;34m,\u001b[0m \u001b[0mtarget_qs\u001b[0m\u001b[0;34m)\u001b[0m\u001b[0;34m\u001b[0m\u001b[0;34m\u001b[0m\u001b[0m\n\u001b[0m\u001b[1;32m     76\u001b[0m             \u001b[0moptimizer\u001b[0m\u001b[0;34m.\u001b[0m\u001b[0mzero_grad\u001b[0m\u001b[0;34m(\u001b[0m\u001b[0;34m)\u001b[0m\u001b[0;34m\u001b[0m\u001b[0;34m\u001b[0m\u001b[0m\n\u001b[1;32m     77\u001b[0m             \u001b[0mloss\u001b[0m\u001b[0;34m.\u001b[0m\u001b[0mbackward\u001b[0m\u001b[0;34m(\u001b[0m\u001b[0;34m)\u001b[0m\u001b[0;34m\u001b[0m\u001b[0;34m\u001b[0m\u001b[0m\n",
            "\u001b[0;32m/usr/local/lib/python3.10/dist-packages/torch/nn/modules/module.py\u001b[0m in \u001b[0;36m_wrapped_call_impl\u001b[0;34m(self, *args, **kwargs)\u001b[0m\n\u001b[1;32m   1509\u001b[0m             \u001b[0;32mreturn\u001b[0m \u001b[0mself\u001b[0m\u001b[0;34m.\u001b[0m\u001b[0m_compiled_call_impl\u001b[0m\u001b[0;34m(\u001b[0m\u001b[0;34m*\u001b[0m\u001b[0margs\u001b[0m\u001b[0;34m,\u001b[0m \u001b[0;34m**\u001b[0m\u001b[0mkwargs\u001b[0m\u001b[0;34m)\u001b[0m  \u001b[0;31m# type: ignore[misc]\u001b[0m\u001b[0;34m\u001b[0m\u001b[0;34m\u001b[0m\u001b[0m\n\u001b[1;32m   1510\u001b[0m         \u001b[0;32melse\u001b[0m\u001b[0;34m:\u001b[0m\u001b[0;34m\u001b[0m\u001b[0;34m\u001b[0m\u001b[0m\n\u001b[0;32m-> 1511\u001b[0;31m             \u001b[0;32mreturn\u001b[0m \u001b[0mself\u001b[0m\u001b[0;34m.\u001b[0m\u001b[0m_call_impl\u001b[0m\u001b[0;34m(\u001b[0m\u001b[0;34m*\u001b[0m\u001b[0margs\u001b[0m\u001b[0;34m,\u001b[0m \u001b[0;34m**\u001b[0m\u001b[0mkwargs\u001b[0m\u001b[0;34m)\u001b[0m\u001b[0;34m\u001b[0m\u001b[0;34m\u001b[0m\u001b[0m\n\u001b[0m\u001b[1;32m   1512\u001b[0m \u001b[0;34m\u001b[0m\u001b[0m\n\u001b[1;32m   1513\u001b[0m     \u001b[0;32mdef\u001b[0m \u001b[0m_call_impl\u001b[0m\u001b[0;34m(\u001b[0m\u001b[0mself\u001b[0m\u001b[0;34m,\u001b[0m \u001b[0;34m*\u001b[0m\u001b[0margs\u001b[0m\u001b[0;34m,\u001b[0m \u001b[0;34m**\u001b[0m\u001b[0mkwargs\u001b[0m\u001b[0;34m)\u001b[0m\u001b[0;34m:\u001b[0m\u001b[0;34m\u001b[0m\u001b[0;34m\u001b[0m\u001b[0m\n",
            "\u001b[0;32m/usr/local/lib/python3.10/dist-packages/torch/nn/modules/module.py\u001b[0m in \u001b[0;36m_call_impl\u001b[0;34m(self, *args, **kwargs)\u001b[0m\n\u001b[1;32m   1518\u001b[0m                 \u001b[0;32mor\u001b[0m \u001b[0m_global_backward_pre_hooks\u001b[0m \u001b[0;32mor\u001b[0m \u001b[0m_global_backward_hooks\u001b[0m\u001b[0;34m\u001b[0m\u001b[0;34m\u001b[0m\u001b[0m\n\u001b[1;32m   1519\u001b[0m                 or _global_forward_hooks or _global_forward_pre_hooks):\n\u001b[0;32m-> 1520\u001b[0;31m             \u001b[0;32mreturn\u001b[0m \u001b[0mforward_call\u001b[0m\u001b[0;34m(\u001b[0m\u001b[0;34m*\u001b[0m\u001b[0margs\u001b[0m\u001b[0;34m,\u001b[0m \u001b[0;34m**\u001b[0m\u001b[0mkwargs\u001b[0m\u001b[0;34m)\u001b[0m\u001b[0;34m\u001b[0m\u001b[0;34m\u001b[0m\u001b[0m\n\u001b[0m\u001b[1;32m   1521\u001b[0m \u001b[0;34m\u001b[0m\u001b[0m\n\u001b[1;32m   1522\u001b[0m         \u001b[0;32mtry\u001b[0m\u001b[0;34m:\u001b[0m\u001b[0;34m\u001b[0m\u001b[0;34m\u001b[0m\u001b[0m\n",
            "\u001b[0;32m/usr/local/lib/python3.10/dist-packages/torch/nn/modules/loss.py\u001b[0m in \u001b[0;36mforward\u001b[0;34m(self, input, target)\u001b[0m\n\u001b[1;32m    533\u001b[0m \u001b[0;34m\u001b[0m\u001b[0m\n\u001b[1;32m    534\u001b[0m     \u001b[0;32mdef\u001b[0m \u001b[0mforward\u001b[0m\u001b[0;34m(\u001b[0m\u001b[0mself\u001b[0m\u001b[0;34m,\u001b[0m \u001b[0minput\u001b[0m\u001b[0;34m:\u001b[0m \u001b[0mTensor\u001b[0m\u001b[0;34m,\u001b[0m \u001b[0mtarget\u001b[0m\u001b[0;34m:\u001b[0m \u001b[0mTensor\u001b[0m\u001b[0;34m)\u001b[0m \u001b[0;34m->\u001b[0m \u001b[0mTensor\u001b[0m\u001b[0;34m:\u001b[0m\u001b[0;34m\u001b[0m\u001b[0;34m\u001b[0m\u001b[0m\n\u001b[0;32m--> 535\u001b[0;31m         \u001b[0;32mreturn\u001b[0m \u001b[0mF\u001b[0m\u001b[0;34m.\u001b[0m\u001b[0mmse_loss\u001b[0m\u001b[0;34m(\u001b[0m\u001b[0minput\u001b[0m\u001b[0;34m,\u001b[0m \u001b[0mtarget\u001b[0m\u001b[0;34m,\u001b[0m \u001b[0mreduction\u001b[0m\u001b[0;34m=\u001b[0m\u001b[0mself\u001b[0m\u001b[0;34m.\u001b[0m\u001b[0mreduction\u001b[0m\u001b[0;34m)\u001b[0m\u001b[0;34m\u001b[0m\u001b[0;34m\u001b[0m\u001b[0m\n\u001b[0m\u001b[1;32m    536\u001b[0m \u001b[0;34m\u001b[0m\u001b[0m\n\u001b[1;32m    537\u001b[0m \u001b[0;34m\u001b[0m\u001b[0m\n",
            "\u001b[0;32m/usr/local/lib/python3.10/dist-packages/torch/nn/functional.py\u001b[0m in \u001b[0;36mmse_loss\u001b[0;34m(input, target, size_average, reduce, reduction)\u001b[0m\n\u001b[1;32m   3337\u001b[0m \u001b[0;34m\u001b[0m\u001b[0m\n\u001b[1;32m   3338\u001b[0m     \u001b[0mexpanded_input\u001b[0m\u001b[0;34m,\u001b[0m \u001b[0mexpanded_target\u001b[0m \u001b[0;34m=\u001b[0m \u001b[0mtorch\u001b[0m\u001b[0;34m.\u001b[0m\u001b[0mbroadcast_tensors\u001b[0m\u001b[0;34m(\u001b[0m\u001b[0minput\u001b[0m\u001b[0;34m,\u001b[0m \u001b[0mtarget\u001b[0m\u001b[0;34m)\u001b[0m\u001b[0;34m\u001b[0m\u001b[0;34m\u001b[0m\u001b[0m\n\u001b[0;32m-> 3339\u001b[0;31m     \u001b[0;32mreturn\u001b[0m \u001b[0mtorch\u001b[0m\u001b[0;34m.\u001b[0m\u001b[0m_C\u001b[0m\u001b[0;34m.\u001b[0m\u001b[0m_nn\u001b[0m\u001b[0;34m.\u001b[0m\u001b[0mmse_loss\u001b[0m\u001b[0;34m(\u001b[0m\u001b[0mexpanded_input\u001b[0m\u001b[0;34m,\u001b[0m \u001b[0mexpanded_target\u001b[0m\u001b[0;34m,\u001b[0m \u001b[0m_Reduction\u001b[0m\u001b[0;34m.\u001b[0m\u001b[0mget_enum\u001b[0m\u001b[0;34m(\u001b[0m\u001b[0mreduction\u001b[0m\u001b[0;34m)\u001b[0m\u001b[0;34m)\u001b[0m\u001b[0;34m\u001b[0m\u001b[0;34m\u001b[0m\u001b[0m\n\u001b[0m\u001b[1;32m   3340\u001b[0m \u001b[0;34m\u001b[0m\u001b[0m\n\u001b[1;32m   3341\u001b[0m \u001b[0;34m\u001b[0m\u001b[0m\n",
            "\u001b[0;31mKeyboardInterrupt\u001b[0m: "
          ]
        }
      ]
    },
    {
      "cell_type": "markdown",
      "source": [
        "## Task 2: Demonstrate the effectiveness of the RL agent"
      ],
      "metadata": {
        "id": "-XtIQ0Rti1gm"
      }
    },
    {
      "cell_type": "markdown",
      "source": [
        "Running the 100 episodes as test data for our DQN Model and printing the average reward over the 100 episodes.\n",
        "\n",
        "### Steps taken:\n",
        "\n",
        "1. First we instantiate the DQN model and load with the weights that are obtained from training.\n",
        "\n",
        "\n",
        "2. We run 100 episodes, starting with a random starting observation and obtaining an action that yields the highest expected returns using the DQN.\n",
        "\n",
        "\n",
        "3. The next state is obtained after taking the action, and the reward is accumulated. Using the next state, we input in the DQN again until the episode end.\n",
        "\n",
        "\n",
        "4. The accumulated rewards for that episode is stored, until all 100 episodes are executed. The average is then calculated."
      ],
      "metadata": {
        "id": "XndSYH7wlvn7"
      }
    },
    {
      "cell_type": "code",
      "source": [
        "def test_model():\n",
        "\n",
        "    device = torch.device(\"cuda\" if torch.cuda.is_available() else \"cpu\")\n",
        "\n",
        "    model = DQN(env.observation_space, env.action_space, 128).to(device)\n",
        "\n",
        "    state_dict = torch.load('checkpoint2.pth') # Change path here to load model\n",
        "    model.load_state_dict(state_dict)\n",
        "    model.eval()\n",
        "\n",
        "    total_rewards = []\n",
        "\n",
        "    for episode in range(100):\n",
        "        obs = env.reset()\n",
        "        episode_reward = 0\n",
        "\n",
        "        while True: # unil the episodes reaches termination\n",
        "            state = wrapper(obs, device).unsqueeze(0)\n",
        "            action = model(state).argmax().item()  # Select action based on model's prediction\n",
        "            obs, reward, done, _ = env.step(action)\n",
        "            episode_reward += reward\n",
        "\n",
        "            if done:\n",
        "                break\n",
        "\n",
        "        total_rewards.append(episode_reward)\n",
        "        print(f\"Episode {episode + 1}: Total Reward = {episode_reward}\")\n",
        "\n",
        "    avg_reward = sum(total_rewards) / len(total_rewards)\n",
        "    print(f\"Average Reward over 100 episodes: {avg_reward}\")\n",
        "    return total_rewards\n",
        "\n",
        "total_rewards = test_model()"
      ],
      "metadata": {
        "colab": {
          "base_uri": "https://localhost:8080/"
        },
        "id": "pOiOp9OYlo5Y",
        "outputId": "d99a7c37-861f-49ce-ccfe-ae6a79b09775"
      },
      "execution_count": null,
      "outputs": [
        {
          "output_type": "stream",
          "name": "stdout",
          "text": [
            "Episode 1: Total Reward = 221.0\n",
            "Episode 2: Total Reward = 137.0\n",
            "Episode 3: Total Reward = 135.0\n",
            "Episode 4: Total Reward = 195.0\n",
            "Episode 5: Total Reward = 208.0\n",
            "Episode 6: Total Reward = 136.0\n",
            "Episode 7: Total Reward = 134.0\n",
            "Episode 8: Total Reward = 196.0\n",
            "Episode 9: Total Reward = 140.0\n",
            "Episode 10: Total Reward = 205.0\n",
            "Episode 11: Total Reward = 132.0\n",
            "Episode 12: Total Reward = 198.0\n",
            "Episode 13: Total Reward = 130.0\n",
            "Episode 14: Total Reward = 141.0\n",
            "Episode 15: Total Reward = 129.0\n",
            "Episode 16: Total Reward = 125.0\n",
            "Episode 17: Total Reward = 135.0\n",
            "Episode 18: Total Reward = 208.0\n",
            "Episode 19: Total Reward = 135.0\n",
            "Episode 20: Total Reward = 138.0\n",
            "Episode 21: Total Reward = 209.0\n",
            "Episode 22: Total Reward = 160.0\n",
            "Episode 23: Total Reward = 135.0\n",
            "Episode 24: Total Reward = 207.0\n",
            "Episode 25: Total Reward = 149.0\n",
            "Episode 26: Total Reward = 195.0\n",
            "Episode 27: Total Reward = 193.0\n",
            "Episode 28: Total Reward = 135.0\n",
            "Episode 29: Total Reward = 135.0\n",
            "Episode 30: Total Reward = 215.0\n",
            "Episode 31: Total Reward = 137.0\n",
            "Episode 32: Total Reward = 189.0\n",
            "Episode 33: Total Reward = 221.0\n",
            "Episode 34: Total Reward = 142.0\n",
            "Episode 35: Total Reward = 125.0\n",
            "Episode 36: Total Reward = 190.0\n",
            "Episode 37: Total Reward = 209.0\n",
            "Episode 38: Total Reward = 201.0\n",
            "Episode 39: Total Reward = 140.0\n",
            "Episode 40: Total Reward = 133.0\n",
            "Episode 41: Total Reward = 209.0\n",
            "Episode 42: Total Reward = 140.0\n",
            "Episode 43: Total Reward = 212.0\n",
            "Episode 44: Total Reward = 132.0\n",
            "Episode 45: Total Reward = 211.0\n",
            "Episode 46: Total Reward = 202.0\n",
            "Episode 47: Total Reward = 208.0\n",
            "Episode 48: Total Reward = 197.0\n",
            "Episode 49: Total Reward = 197.0\n",
            "Episode 50: Total Reward = 131.0\n",
            "Episode 51: Total Reward = 129.0\n",
            "Episode 52: Total Reward = 203.0\n",
            "Episode 53: Total Reward = 206.0\n",
            "Episode 54: Total Reward = 203.0\n",
            "Episode 55: Total Reward = 207.0\n",
            "Episode 56: Total Reward = 201.0\n",
            "Episode 57: Total Reward = 195.0\n",
            "Episode 58: Total Reward = 121.0\n",
            "Episode 59: Total Reward = 202.0\n",
            "Episode 60: Total Reward = 133.0\n",
            "Episode 61: Total Reward = 134.0\n",
            "Episode 62: Total Reward = 132.0\n",
            "Episode 63: Total Reward = 134.0\n",
            "Episode 64: Total Reward = 215.0\n",
            "Episode 65: Total Reward = 128.0\n",
            "Episode 66: Total Reward = 197.0\n",
            "Episode 67: Total Reward = 201.0\n",
            "Episode 68: Total Reward = 135.0\n",
            "Episode 69: Total Reward = 195.0\n",
            "Episode 70: Total Reward = 199.0\n",
            "Episode 71: Total Reward = 123.0\n",
            "Episode 72: Total Reward = 193.0\n",
            "Episode 73: Total Reward = 203.0\n",
            "Episode 74: Total Reward = 136.0\n",
            "Episode 75: Total Reward = 199.0\n",
            "Episode 76: Total Reward = 213.0\n",
            "Episode 77: Total Reward = 219.0\n",
            "Episode 78: Total Reward = 205.0\n",
            "Episode 79: Total Reward = 221.0\n",
            "Episode 80: Total Reward = 202.0\n",
            "Episode 81: Total Reward = 208.0\n",
            "Episode 82: Total Reward = 161.0\n",
            "Episode 83: Total Reward = 135.0\n",
            "Episode 84: Total Reward = 130.0\n",
            "Episode 85: Total Reward = 138.0\n",
            "Episode 86: Total Reward = 126.0\n",
            "Episode 87: Total Reward = 228.0\n",
            "Episode 88: Total Reward = 134.0\n",
            "Episode 89: Total Reward = 203.0\n",
            "Episode 90: Total Reward = 211.0\n",
            "Episode 91: Total Reward = 207.0\n",
            "Episode 92: Total Reward = 133.0\n",
            "Episode 93: Total Reward = 205.0\n",
            "Episode 94: Total Reward = 134.0\n",
            "Episode 95: Total Reward = 203.0\n",
            "Episode 96: Total Reward = 195.0\n",
            "Episode 97: Total Reward = 203.0\n",
            "Episode 98: Total Reward = 132.0\n",
            "Episode 99: Total Reward = 135.0\n",
            "Episode 100: Total Reward = 203.0\n",
            "Average Reward over 100 episodes: 172.45\n"
          ]
        }
      ]
    },
    {
      "cell_type": "code",
      "source": [
        "plt.plot(total_rewards)\n",
        "plt.title('Cumulative reward for each episode')\n",
        "plt.ylabel('Cumulative reward')\n",
        "plt.xlabel('episode')\n",
        "plt.show()"
      ],
      "metadata": {
        "colab": {
          "base_uri": "https://localhost:8080/",
          "height": 472
        },
        "id": "y8vGhenllmid",
        "outputId": "cad29e4e-20fd-40d4-9b79-5839b1edd05c"
      },
      "execution_count": null,
      "outputs": [
        {
          "output_type": "display_data",
          "data": {
            "text/plain": [
              "<Figure size 640x480 with 1 Axes>"
            ],
            "image/png": "[encoded data removed]"
          },
          "metadata": {}
        }
      ]
    },
    {
      "cell_type": "code",
      "source": [
        "print(\"Average cumulative reward:\", sum(total_rewards) / len(total_rewards))\n",
        "print(\"Is my agent good enough?\", sum(total_rewards) / len(total_rewards) > 195)"
      ],
      "metadata": {
        "colab": {
          "base_uri": "https://localhost:8080/"
        },
        "id": "sAuTjds2l4Wh",
        "outputId": "4eee5b9b-bbd7-4308-fe36-228d9ead8563"
      },
      "execution_count": null,
      "outputs": [
        {
          "output_type": "stream",
          "name": "stdout",
          "text": [
            "Average cumulative reward: 172.45\n",
            "Is my agent good enough? False\n"
          ]
        }
      ]
    },
    {
      "cell_type": "markdown",
      "source": [
        "## Task 3: Render one episode played by the agent"
      ],
      "metadata": {
        "id": "Yg0DCT38lFA6"
      }
    },
    {
      "cell_type": "markdown",
      "source": [
        "### Steps taken:\n",
        "\n",
        "Similar to Task 2, but instead a single epsiode is recorded instead. Using `RecordVideo`, the environment is simulated with one episode and recorded."
      ],
      "metadata": {
        "id": "vx1awMr9lc_w"
      }
    },
    {
      "cell_type": "code",
      "source": [
        "env = RecordVideo(gym.make(\"CartPole-v1\"), \"./video\")\n",
        "observation = env.reset()\n",
        "state = wrapper(observation, device='cpu').unsqueeze(0)\n",
        "\n",
        "model = DQN(env.observation_space, env.action_space, 128).to(device='cpu')\n",
        "\n",
        "state_dict = torch.load('checkpoint2.pth') # loads the weights of the model\n",
        "model.load_state_dict(state_dict)\n",
        "model.eval()\n",
        "\n",
        "while True:\n",
        "    env.render()\n",
        "    action = model(state).argmax().item()\n",
        "    observation, reward, done, info = env.step(action)\n",
        "    state = wrapper(observation, device='cpu').unsqueeze(0) # obtain the next state after executing action that was recommended\n",
        "    if done:\n",
        "      break;\n",
        "\n",
        "print(\"terminate\")\n",
        "env.close()\n",
        "show_video()"
      ],
      "metadata": {
        "colab": {
          "base_uri": "https://localhost:8080/",
          "height": 474
        },
        "id": "LYyavfbIa47D",
        "outputId": "63a1cd4f-7b70-4e7b-e18d-2f6f513e5492"
      },
      "execution_count": null,
      "outputs": [
        {
          "output_type": "stream",
          "name": "stderr",
          "text": [
            "/usr/local/lib/python3.10/dist-packages/gym/utils/passive_env_checker.py:241: DeprecationWarning: `np.bool8` is a deprecated alias for `np.bool_`.  (Deprecated NumPy 1.24)\n",
            "  if not isinstance(terminated, (bool, np.bool8)):\n"
          ]
        },
        {
          "output_type": "stream",
          "name": "stdout",
          "text": [
            "terminate\n"
          ]
        },
        {
          "output_type": "display_data",
          "data": {
            "text/plain": [
              "<IPython.core.display.HTML object>"
            ],
            "text/html": [
              "<video alt=\"test\" autoplay\n",
              "                loop controls style=\"height: 400px;\">\n",
              "                <source src=\"data:video/mp4;base64,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\" type=\"video/mp4\" />\n",
              "             </video>"
            ]
          },
          "metadata": {}
        }
      ]
    },
    {
      "cell_type": "markdown",
      "source": [
        "### References:\n",
        "1. To build our DQN Model we will be using the PyTorch library and we referenced code from\n",
        "<br>https://pytorch.org/tutorials/intermediate/reinforcement_q_learning.html <br>https://stackoverflow.com/questions/75179713/problem-getting-dqn-to-learn-cartpole-v1-pytorch\n",
        "\n",
        "2. For our research on DQN and Target Network we referenced\n",
        "<br>https://towardsdatascience.com/reinforcement-learning-explained-visually-part-5-deep-q-networks-step-by-step-5a5317197f4b\n",
        "<br>https://pytorch.org/tutorials/intermediate/reinforcement_q_learning.html"
      ],
      "metadata": {
        "id": "QpZQhEICFsFE"
      }
    }
  ]
}